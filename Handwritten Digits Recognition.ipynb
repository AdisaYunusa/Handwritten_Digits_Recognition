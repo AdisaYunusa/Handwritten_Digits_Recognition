{
 "cells": [
  {
   "cell_type": "markdown",
   "id": "bab5a23a",
   "metadata": {},
   "source": [
    "# Handwritten Digits Recognition"
   ]
  },
  {
   "cell_type": "code",
   "execution_count": 1,
   "id": "3af38f14",
   "metadata": {},
   "outputs": [],
   "source": [
    "# Importing all required libraries.\n",
    "\n",
    "import csv\n",
    "import pandas as pd\n",
    "import seaborn as sns\n",
    "import matplotlib.pyplot as plt\n",
    "import numpy as np\n",
    "%matplotlib inline\n",
    "from sklearn.linear_model import LinearRegression\n",
    "from sklearn.tree import DecisionTreeRegressor\n",
    "import tensorflow as tf\n",
    "from tensorflow import keras\n",
    "from tensorflow.keras.datasets import mnist\n",
    "from keras.utils import np_utils\n",
    "from tensorflow.keras.models import Sequential\n",
    "from tensorflow.keras.layers import Conv2D, MaxPooling2D, Flatten, Dense, Dropout, BatchNormalization,ZeroPadding2D\n",
    "from tensorflow.keras.optimizers import SGD,Adam\n",
    "from keras.optimizers import RMSprop\n",
    "from sklearn.metrics import classification_report\n",
    "from keras import callbacks\n",
    "from tensorflow.keras import layers\n",
    "from keras_tuner.tuners import RandomSearch"
   ]
  },
  {
   "cell_type": "markdown",
   "id": "df02eaa6",
   "metadata": {},
   "source": [
    "## Overview of the dataset\n",
    "\n",
    "The dataset source is http://yann.lecun.com/exdb/mnist/ .\n",
    "\n",
    "The dataset has a training set of 60,000 examples, and a test set of 10,000 examples. It is a subset of a larger set available from NIST. The digits have been size-normalized and centered in a fixed-size image."
   ]
  },
  {
   "cell_type": "markdown",
   "id": "b9dee928",
   "metadata": {},
   "source": [
    "## Procedures for 2D convolutional neural network image categorization.\n",
    "\n",
    "1. Imported all necessary libraries which are as follows: tensorflow, SGD, numpy, classification_report etc.\n",
    "2. The dataset were loaded.\n",
    "3. Preprocess the data. In this step, the image dataset is transformed using techniques like rotation, shift, and flipping, among others.\n",
    "4. Built the model. In Keras, a Sequential model is a linear stack of layers, and layers can be added by using the add() method. The first layer in the model specifies the input shape.\n",
    "5. Compiled the model. This step involves specifying the loss function, the optimizer, and any metrics that can be tracked during training.\n",
    "6. Trained the model. Used the fit() method to train the model on the training data. The validation data can also be specified at this step.\n",
    "7. Evaluated the model. The evaluate() method was used to evaluate the model on the test data. This would provide the accuracy and other metrics that were specified earlier.\n",
    "8. Predictions: Used the predict() method to make predictions on new data.\n",
    "9. Visualised the results: Used tools like Confusion matrix, classification report, Matplotlib to visualize the results."
   ]
  },
  {
   "cell_type": "markdown",
   "id": "a4438308",
   "metadata": {},
   "source": [
    "### Step 1: Import all necessary libraries.\n",
    "\n",
    "All relevant libraries have been imported at the begining of this Jupyter workbook."
   ]
  },
  {
   "cell_type": "markdown",
   "id": "f568d94d",
   "metadata": {},
   "source": [
    "### Step 2: Load the dataset.\n",
    "\n",
    "\n",
    "The x_train and y_train variables contain the 60,000 training images and their corresponding labels, \n",
    "while x_test and y_test contain the 10,000 test images and their labels.\n",
    "\n",
    "\n",
    "mnist.load_data() function splits the  MNIST dataset into 60,000 training images and 10,000 test images. \n",
    "The load_data() function will return two tuples  one containing the training data and  the other, test data."
   ]
  },
  {
   "cell_type": "code",
   "execution_count": 2,
   "id": "b9749f52",
   "metadata": {},
   "outputs": [],
   "source": [
    "# Load the  MNIST dataset\n",
    "(x_train, y_train), (x_test, y_test) = mnist.load_data()"
   ]
  },
  {
   "cell_type": "code",
   "execution_count": 3,
   "id": "a181e7cb",
   "metadata": {},
   "outputs": [
    {
     "data": {
      "image/png": "[encoded data removed]",
      "text/plain": [
       "<Figure size 1500x300 with 6 Axes>"
      ]
     },
     "metadata": {},
     "output_type": "display_data"
    }
   ],
   "source": [
    "# Plot the first 6 images from the training set\n",
    "fig, axs = plt.subplots(1, 6, figsize=(15, 3))\n",
    "for i in range(6):\n",
    "    axs[i].imshow(x_train[i])\n",
    "    axs[i].axis('off')\n",
    "plt.show()"
   ]
  },
  {
   "cell_type": "code",
   "execution_count": 4,
   "id": "1cbbca1f",
   "metadata": {},
   "outputs": [
    {
     "data": {
      "text/plain": [
       "(28, 28)"
      ]
     },
     "execution_count": 4,
     "metadata": {},
     "output_type": "execute_result"
    }
   ],
   "source": [
    "x_train[1].shape   #  This shows the shape of one of the train images (length, width, channel)"
   ]
  },
  {
   "cell_type": "code",
   "execution_count": 5,
   "id": "ebe41607",
   "metadata": {},
   "outputs": [
    {
     "data": {
      "text/plain": [
       "<matplotlib.image.AxesImage at 0x1ba87f8c970>"
      ]
     },
     "execution_count": 5,
     "metadata": {},
     "output_type": "execute_result"
    },
    {
     "data": {
      "image/png": "[encoded data removed]",
      "text/plain": [
       "<Figure size 640x480 with 1 Axes>"
      ]
     },
     "metadata": {},
     "output_type": "display_data"
    }
   ],
   "source": [
    "plt.imshow(x_train[1])"
   ]
  },
  {
   "cell_type": "code",
   "execution_count": 6,
   "id": "5853eb73",
   "metadata": {},
   "outputs": [
    {
     "data": {
      "text/plain": [
       "array([[[0, 0, 0, ..., 0, 0, 0],\n",
       "        [0, 0, 0, ..., 0, 0, 0],\n",
       "        [0, 0, 0, ..., 0, 0, 0],\n",
       "        ...,\n",
       "        [0, 0, 0, ..., 0, 0, 0],\n",
       "        [0, 0, 0, ..., 0, 0, 0],\n",
       "        [0, 0, 0, ..., 0, 0, 0]],\n",
       "\n",
       "       [[0, 0, 0, ..., 0, 0, 0],\n",
       "        [0, 0, 0, ..., 0, 0, 0],\n",
       "        [0, 0, 0, ..., 0, 0, 0],\n",
       "        ...,\n",
       "        [0, 0, 0, ..., 0, 0, 0],\n",
       "        [0, 0, 0, ..., 0, 0, 0],\n",
       "        [0, 0, 0, ..., 0, 0, 0]],\n",
       "\n",
       "       [[0, 0, 0, ..., 0, 0, 0],\n",
       "        [0, 0, 0, ..., 0, 0, 0],\n",
       "        [0, 0, 0, ..., 0, 0, 0],\n",
       "        ...,\n",
       "        [0, 0, 0, ..., 0, 0, 0],\n",
       "        [0, 0, 0, ..., 0, 0, 0],\n",
       "        [0, 0, 0, ..., 0, 0, 0]],\n",
       "\n",
       "       ...,\n",
       "\n",
       "       [[0, 0, 0, ..., 0, 0, 0],\n",
       "        [0, 0, 0, ..., 0, 0, 0],\n",
       "        [0, 0, 0, ..., 0, 0, 0],\n",
       "        ...,\n",
       "        [0, 0, 0, ..., 0, 0, 0],\n",
       "        [0, 0, 0, ..., 0, 0, 0],\n",
       "        [0, 0, 0, ..., 0, 0, 0]],\n",
       "\n",
       "       [[0, 0, 0, ..., 0, 0, 0],\n",
       "        [0, 0, 0, ..., 0, 0, 0],\n",
       "        [0, 0, 0, ..., 0, 0, 0],\n",
       "        ...,\n",
       "        [0, 0, 0, ..., 0, 0, 0],\n",
       "        [0, 0, 0, ..., 0, 0, 0],\n",
       "        [0, 0, 0, ..., 0, 0, 0]],\n",
       "\n",
       "       [[0, 0, 0, ..., 0, 0, 0],\n",
       "        [0, 0, 0, ..., 0, 0, 0],\n",
       "        [0, 0, 0, ..., 0, 0, 0],\n",
       "        ...,\n",
       "        [0, 0, 0, ..., 0, 0, 0],\n",
       "        [0, 0, 0, ..., 0, 0, 0],\n",
       "        [0, 0, 0, ..., 0, 0, 0]]], dtype=uint8)"
      ]
     },
     "execution_count": 6,
     "metadata": {},
     "output_type": "execute_result"
    }
   ],
   "source": [
    "x_train"
   ]
  },
  {
   "cell_type": "code",
   "execution_count": 7,
   "id": "2a7ad362",
   "metadata": {},
   "outputs": [
    {
     "data": {
      "text/plain": [
       "array([5, 0, 4, ..., 5, 6, 8], dtype=uint8)"
      ]
     },
     "execution_count": 7,
     "metadata": {},
     "output_type": "execute_result"
    }
   ],
   "source": [
    "y_train"
   ]
  },
  {
   "cell_type": "code",
   "execution_count": 8,
   "id": "5c57d27d",
   "metadata": {},
   "outputs": [
    {
     "data": {
      "text/plain": [
       "(60000,)"
      ]
     },
     "execution_count": 8,
     "metadata": {},
     "output_type": "execute_result"
    }
   ],
   "source": [
    "y_train.shape"
   ]
  },
  {
   "cell_type": "code",
   "execution_count": 9,
   "id": "f85b6d9c",
   "metadata": {},
   "outputs": [],
   "source": [
    "# Reshape the input to have a single color channel.\n",
    "\n",
    "x_train = x_train.reshape(x_train.shape[0], 28, 28, 1)\n",
    "x_test = x_test.reshape(x_test.shape[0], 28, 28, 1)"
   ]
  },
  {
   "cell_type": "code",
   "execution_count": 10,
   "id": "6e0b525a",
   "metadata": {},
   "outputs": [],
   "source": [
    "# Converting the integer value to float before Normalization\n",
    "\n",
    "x_train = x_train.astype('float32')\n",
    "x_test = x_test.astype('float32')"
   ]
  },
  {
   "cell_type": "markdown",
   "id": "29c77d0e",
   "metadata": {},
   "source": [
    "### Step 3: Preprocess the Data"
   ]
  },
  {
   "cell_type": "code",
   "execution_count": 11,
   "id": "acdb3faf",
   "metadata": {},
   "outputs": [],
   "source": [
    "\"\"\"\n",
    "Normalize pixel values to range 0-1.\n",
    "The pixel values in an image typically range from 0 to 255.\n",
    "Dividing all pixel values by 255 brings the pixel values to the range between 0 and 1.\n",
    "\"\"\"\n",
    "\n",
    "x_train = x_train / 255.0\n",
    "x_test = x_test / 255.0"
   ]
  },
  {
   "cell_type": "code",
   "execution_count": 12,
   "id": "19beda81",
   "metadata": {},
   "outputs": [
    {
     "data": {
      "text/plain": [
       "array([[[[0.],\n",
       "         [0.],\n",
       "         [0.],\n",
       "         ...,\n",
       "         [0.],\n",
       "         [0.],\n",
       "         [0.]],\n",
       "\n",
       "        [[0.],\n",
       "         [0.],\n",
       "         [0.],\n",
       "         ...,\n",
       "         [0.],\n",
       "         [0.],\n",
       "         [0.]],\n",
       "\n",
       "        [[0.],\n",
       "         [0.],\n",
       "         [0.],\n",
       "         ...,\n",
       "         [0.],\n",
       "         [0.],\n",
       "         [0.]],\n",
       "\n",
       "        ...,\n",
       "\n",
       "        [[0.],\n",
       "         [0.],\n",
       "         [0.],\n",
       "         ...,\n",
       "         [0.],\n",
       "         [0.],\n",
       "         [0.]],\n",
       "\n",
       "        [[0.],\n",
       "         [0.],\n",
       "         [0.],\n",
       "         ...,\n",
       "         [0.],\n",
       "         [0.],\n",
       "         [0.]],\n",
       "\n",
       "        [[0.],\n",
       "         [0.],\n",
       "         [0.],\n",
       "         ...,\n",
       "         [0.],\n",
       "         [0.],\n",
       "         [0.]]],\n",
       "\n",
       "\n",
       "       [[[0.],\n",
       "         [0.],\n",
       "         [0.],\n",
       "         ...,\n",
       "         [0.],\n",
       "         [0.],\n",
       "         [0.]],\n",
       "\n",
       "        [[0.],\n",
       "         [0.],\n",
       "         [0.],\n",
       "         ...,\n",
       "         [0.],\n",
       "         [0.],\n",
       "         [0.]],\n",
       "\n",
       "        [[0.],\n",
       "         [0.],\n",
       "         [0.],\n",
       "         ...,\n",
       "         [0.],\n",
       "         [0.],\n",
       "         [0.]],\n",
       "\n",
       "        ...,\n",
       "\n",
       "        [[0.],\n",
       "         [0.],\n",
       "         [0.],\n",
       "         ...,\n",
       "         [0.],\n",
       "         [0.],\n",
       "         [0.]],\n",
       "\n",
       "        [[0.],\n",
       "         [0.],\n",
       "         [0.],\n",
       "         ...,\n",
       "         [0.],\n",
       "         [0.],\n",
       "         [0.]],\n",
       "\n",
       "        [[0.],\n",
       "         [0.],\n",
       "         [0.],\n",
       "         ...,\n",
       "         [0.],\n",
       "         [0.],\n",
       "         [0.]]],\n",
       "\n",
       "\n",
       "       [[[0.],\n",
       "         [0.],\n",
       "         [0.],\n",
       "         ...,\n",
       "         [0.],\n",
       "         [0.],\n",
       "         [0.]],\n",
       "\n",
       "        [[0.],\n",
       "         [0.],\n",
       "         [0.],\n",
       "         ...,\n",
       "         [0.],\n",
       "         [0.],\n",
       "         [0.]],\n",
       "\n",
       "        [[0.],\n",
       "         [0.],\n",
       "         [0.],\n",
       "         ...,\n",
       "         [0.],\n",
       "         [0.],\n",
       "         [0.]],\n",
       "\n",
       "        ...,\n",
       "\n",
       "        [[0.],\n",
       "         [0.],\n",
       "         [0.],\n",
       "         ...,\n",
       "         [0.],\n",
       "         [0.],\n",
       "         [0.]],\n",
       "\n",
       "        [[0.],\n",
       "         [0.],\n",
       "         [0.],\n",
       "         ...,\n",
       "         [0.],\n",
       "         [0.],\n",
       "         [0.]],\n",
       "\n",
       "        [[0.],\n",
       "         [0.],\n",
       "         [0.],\n",
       "         ...,\n",
       "         [0.],\n",
       "         [0.],\n",
       "         [0.]]],\n",
       "\n",
       "\n",
       "       ...,\n",
       "\n",
       "\n",
       "       [[[0.],\n",
       "         [0.],\n",
       "         [0.],\n",
       "         ...,\n",
       "         [0.],\n",
       "         [0.],\n",
       "         [0.]],\n",
       "\n",
       "        [[0.],\n",
       "         [0.],\n",
       "         [0.],\n",
       "         ...,\n",
       "         [0.],\n",
       "         [0.],\n",
       "         [0.]],\n",
       "\n",
       "        [[0.],\n",
       "         [0.],\n",
       "         [0.],\n",
       "         ...,\n",
       "         [0.],\n",
       "         [0.],\n",
       "         [0.]],\n",
       "\n",
       "        ...,\n",
       "\n",
       "        [[0.],\n",
       "         [0.],\n",
       "         [0.],\n",
       "         ...,\n",
       "         [0.],\n",
       "         [0.],\n",
       "         [0.]],\n",
       "\n",
       "        [[0.],\n",
       "         [0.],\n",
       "         [0.],\n",
       "         ...,\n",
       "         [0.],\n",
       "         [0.],\n",
       "         [0.]],\n",
       "\n",
       "        [[0.],\n",
       "         [0.],\n",
       "         [0.],\n",
       "         ...,\n",
       "         [0.],\n",
       "         [0.],\n",
       "         [0.]]],\n",
       "\n",
       "\n",
       "       [[[0.],\n",
       "         [0.],\n",
       "         [0.],\n",
       "         ...,\n",
       "         [0.],\n",
       "         [0.],\n",
       "         [0.]],\n",
       "\n",
       "        [[0.],\n",
       "         [0.],\n",
       "         [0.],\n",
       "         ...,\n",
       "         [0.],\n",
       "         [0.],\n",
       "         [0.]],\n",
       "\n",
       "        [[0.],\n",
       "         [0.],\n",
       "         [0.],\n",
       "         ...,\n",
       "         [0.],\n",
       "         [0.],\n",
       "         [0.]],\n",
       "\n",
       "        ...,\n",
       "\n",
       "        [[0.],\n",
       "         [0.],\n",
       "         [0.],\n",
       "         ...,\n",
       "         [0.],\n",
       "         [0.],\n",
       "         [0.]],\n",
       "\n",
       "        [[0.],\n",
       "         [0.],\n",
       "         [0.],\n",
       "         ...,\n",
       "         [0.],\n",
       "         [0.],\n",
       "         [0.]],\n",
       "\n",
       "        [[0.],\n",
       "         [0.],\n",
       "         [0.],\n",
       "         ...,\n",
       "         [0.],\n",
       "         [0.],\n",
       "         [0.]]],\n",
       "\n",
       "\n",
       "       [[[0.],\n",
       "         [0.],\n",
       "         [0.],\n",
       "         ...,\n",
       "         [0.],\n",
       "         [0.],\n",
       "         [0.]],\n",
       "\n",
       "        [[0.],\n",
       "         [0.],\n",
       "         [0.],\n",
       "         ...,\n",
       "         [0.],\n",
       "         [0.],\n",
       "         [0.]],\n",
       "\n",
       "        [[0.],\n",
       "         [0.],\n",
       "         [0.],\n",
       "         ...,\n",
       "         [0.],\n",
       "         [0.],\n",
       "         [0.]],\n",
       "\n",
       "        ...,\n",
       "\n",
       "        [[0.],\n",
       "         [0.],\n",
       "         [0.],\n",
       "         ...,\n",
       "         [0.],\n",
       "         [0.],\n",
       "         [0.]],\n",
       "\n",
       "        [[0.],\n",
       "         [0.],\n",
       "         [0.],\n",
       "         ...,\n",
       "         [0.],\n",
       "         [0.],\n",
       "         [0.]],\n",
       "\n",
       "        [[0.],\n",
       "         [0.],\n",
       "         [0.],\n",
       "         ...,\n",
       "         [0.],\n",
       "         [0.],\n",
       "         [0.]]]], dtype=float32)"
      ]
     },
     "execution_count": 12,
     "metadata": {},
     "output_type": "execute_result"
    }
   ],
   "source": [
    "x_train"
   ]
  },
  {
   "cell_type": "code",
   "execution_count": 13,
   "id": "7118afc6",
   "metadata": {},
   "outputs": [],
   "source": [
    "\"\"\"\n",
    "For preprocessing, the ImageDataGenerator is used. \n",
    "It is used for the generation of batches of augmented image data.\n",
    "In real-time during the training process.\n",
    "\"\"\"\n",
    "\n",
    "from tensorflow.keras.preprocessing.image import ImageDataGenerator"
   ]
  },
  {
   "cell_type": "code",
   "execution_count": 14,
   "id": "6e5d43fe",
   "metadata": {},
   "outputs": [],
   "source": [
    "# Define data augmentation parameters for training set\n",
    "\n",
    "train_datagenerator = ImageDataGenerator(\n",
    "    rotation_range=20,  # Randomly rotate images up to 20 degrees\n",
    "    width_shift_range=0.1,  # Randomly shift images horizontally up to 10% of the width\n",
    "    height_shift_range=0.1,  # Randomly shift images vertically up to 10% of the height\n",
    "    horizontal_flip=True,  # Randomly flip images horizontally\n",
    "    vertical_flip=False,  # Don't randomly flip images vertically\n",
    "    shear_range=0.10, # crops part of the image\n",
    "    zoom_range=0.10 # #zooms the image by 10%\n",
    ")"
   ]
  },
  {
   "cell_type": "code",
   "execution_count": 15,
   "id": "3931946e",
   "metadata": {},
   "outputs": [],
   "source": [
    "# Fit the transformation to the training dataset\n",
    "train_datagenerator.fit(x_train)"
   ]
  },
  {
   "cell_type": "code",
   "execution_count": 16,
   "id": "7f5c0fa7",
   "metadata": {},
   "outputs": [
    {
     "data": {
      "text/plain": [
       "<matplotlib.image.AxesImage at 0x1ba8a1e00a0>"
      ]
     },
     "execution_count": 16,
     "metadata": {},
     "output_type": "execute_result"
    },
    {
     "data": {
      "image/png": "[encoded data removed]",
      "text/plain": [
       "<Figure size 640x480 with 1 Axes>"
      ]
     },
     "metadata": {},
     "output_type": "display_data"
    }
   ],
   "source": [
    "# showing sample of a transformation\n",
    "plt.imshow(train_datagenerator.random_transform(x_train[1]))"
   ]
  },
  {
   "cell_type": "markdown",
   "id": "b2f44203",
   "metadata": {},
   "source": [
    "### Step 4. Build the model (Constructor stage)"
   ]
  },
  {
   "cell_type": "code",
   "execution_count": 17,
   "id": "c6455d43",
   "metadata": {},
   "outputs": [],
   "source": [
    "\"\"\"\n",
    "Define the CNN architecture\n",
    "\n",
    "Conv2D(filters=32,kernel_size=(3, 3) means use 32 filters (also called kernels) of size 3x3.\n",
    "\n",
    "Input_shape=(28, 28, 1) means the input data is a 3D tensor with dimensions 28x28x1.(height x width x number_of_channels)\n",
    "    The first dimension of the tensor (28) is the height of the image.\n",
    "    The second dimension of the tensor (28) is the width of the image.\n",
    "    The third dimension of the tensor (1) is the number of channels in the image (Black, White colors of the image).\n",
    "\n",
    "The MaxPooling2D(2, 2) performs a pooling operation where the (2,2) argument indicates the size of the pooling window.\n",
    "    It reduces the spatial size of the feature maps and prevent overfitting\n",
    "    The output of the convolutional and pooling layers is a 3D tensor;\n",
    "\n",
    "The Flatten() layer takes 3D tensor (height, width, channels) and reshapes it into a 1D array;\n",
    "    The output of the convolutional and pooling layers is a 3D tensor;\n",
    "    1D array is required by the fully connected (dense) layers; \n",
    "    Flatten() later enables the transition from the convolutional and pooling layers to the fully connected layers;\n",
    "\"\"\"\n",
    "\n",
    "mnist_model = Sequential()\n",
    "mnist_model.add(Conv2D(filters=32,kernel_size=(3,3),input_shape=(28,28,1),activation = 'relu',padding = 'same'))\n",
    "mnist_model.add(MaxPooling2D(pool_size=(2,2)))\n",
    "mnist_model.add(Conv2D(filters=64,kernel_size=(3,3),activation = 'relu'))\n",
    "mnist_model.add(MaxPooling2D(pool_size=(2,2)))\n",
    "mnist_model.add(Conv2D(filters=128,kernel_size=(3,3),activation = 'relu'))\n",
    "mnist_model.add(MaxPooling2D(pool_size=(2,2)))\n",
    "mnist_model.add(Flatten())\n",
    "mnist_model.add(Dense(128,activation = 'relu'))\n",
    "mnist_model.add(Dropout(0.5))\n",
    "mnist_model.add(Dense(10,activation = 'softmax'))"
   ]
  },
  {
   "cell_type": "code",
   "execution_count": 18,
   "id": "9659115f",
   "metadata": {},
   "outputs": [
    {
     "name": "stdout",
     "output_type": "stream",
     "text": [
      "Model: \"sequential\"\n",
      "_________________________________________________________________\n",
      " Layer (type)                Output Shape              Param #   \n",
      "=================================================================\n",
      " conv2d (Conv2D)             (None, 28, 28, 32)        320       \n",
      "                                                                 \n",
      " max_pooling2d (MaxPooling2D  (None, 14, 14, 32)       0         \n",
      " )                                                               \n",
      "                                                                 \n",
      " conv2d_1 (Conv2D)           (None, 12, 12, 64)        18496     \n",
      "                                                                 \n",
      " max_pooling2d_1 (MaxPooling  (None, 6, 6, 64)         0         \n",
      " 2D)                                                             \n",
      "                                                                 \n",
      " conv2d_2 (Conv2D)           (None, 4, 4, 128)         73856     \n",
      "                                                                 \n",
      " max_pooling2d_2 (MaxPooling  (None, 2, 2, 128)        0         \n",
      " 2D)                                                             \n",
      "                                                                 \n",
      " flatten (Flatten)           (None, 512)               0         \n",
      "                                                                 \n",
      " dense (Dense)               (None, 128)               65664     \n",
      "                                                                 \n",
      " dropout (Dropout)           (None, 128)               0         \n",
      "                                                                 \n",
      " dense_1 (Dense)             (None, 10)                1290      \n",
      "                                                                 \n",
      "=================================================================\n",
      "Total params: 159,626\n",
      "Trainable params: 159,626\n",
      "Non-trainable params: 0\n",
      "_________________________________________________________________\n"
     ]
    }
   ],
   "source": [
    "# print the summary of the model constructed\n",
    "mnist_model.summary()"
   ]
  },
  {
   "cell_type": "markdown",
   "id": "1fce7a1d",
   "metadata": {},
   "source": [
    "### Step 5: Compile the model (Compilation stage)"
   ]
  },
  {
   "cell_type": "code",
   "execution_count": 19,
   "id": "c3a286a7",
   "metadata": {},
   "outputs": [],
   "source": [
    "\"\"\"\n",
    "Compile the model with categorical cross-entropy loss and SGD optimizer\n",
    "\n",
    "\n",
    "categorical_crossentropy - loss function during model training\n",
    "accuracy - Evaluation measure\n",
    "SGD - Stochastic Gradient Descent\n",
    "\n",
    "learning_rate=0.001 specifies the step size of the updates to the weights during training. \n",
    "momentum=0.9 is a parameter that helps the optimizer to accelerate in the direction of the gradient and dampen oscillations.\n",
    "Higher values of momentum allow the optimizer to move more smoothly towards the global minimum \n",
    "And reduce the chance of getting stuck in local minima.\n",
    "\"\"\"\n",
    "mnist_model.compile(optimizer=SGD(learning_rate=0.001, momentum=0.9), loss='categorical_crossentropy', metrics=['accuracy'])"
   ]
  },
  {
   "cell_type": "markdown",
   "id": "aad09224",
   "metadata": {},
   "source": [
    "### Step 6: Training and evaluation of the model (Training stage)"
   ]
  },
  {
   "cell_type": "code",
   "execution_count": 20,
   "id": "60211d8c",
   "metadata": {},
   "outputs": [
    {
     "name": "stdout",
     "output_type": "stream",
     "text": [
      "Epoch 1/20\n",
      "1875/1875 [==============================] - 20s 10ms/step - loss: 1.6219 - accuracy: 0.4310 - val_loss: 0.4909 - val_accuracy: 0.8206\n",
      "Epoch 2/20\n",
      "1875/1875 [==============================] - 20s 11ms/step - loss: 0.7211 - accuracy: 0.7592 - val_loss: 0.2725 - val_accuracy: 0.9152\n",
      "Epoch 3/20\n",
      "1875/1875 [==============================] - 20s 11ms/step - loss: 0.5301 - accuracy: 0.8285 - val_loss: 0.1781 - val_accuracy: 0.9457\n",
      "Epoch 4/20\n",
      "1875/1875 [==============================] - 20s 11ms/step - loss: 0.4262 - accuracy: 0.8664 - val_loss: 0.1335 - val_accuracy: 0.9550\n",
      "Epoch 5/20\n",
      "1875/1875 [==============================] - 20s 11ms/step - loss: 0.3659 - accuracy: 0.8846 - val_loss: 0.1103 - val_accuracy: 0.9620\n",
      "Epoch 6/20\n",
      "1875/1875 [==============================] - 20s 11ms/step - loss: 0.3174 - accuracy: 0.9017 - val_loss: 0.0942 - val_accuracy: 0.9671\n",
      "Epoch 7/20\n",
      "1875/1875 [==============================] - 20s 11ms/step - loss: 0.2872 - accuracy: 0.9118 - val_loss: 0.0852 - val_accuracy: 0.9693\n",
      "Epoch 8/20\n",
      "1875/1875 [==============================] - 20s 11ms/step - loss: 0.2625 - accuracy: 0.9199 - val_loss: 0.0783 - val_accuracy: 0.9721\n",
      "Epoch 9/20\n",
      "1875/1875 [==============================] - 20s 11ms/step - loss: 0.2409 - accuracy: 0.9267 - val_loss: 0.0765 - val_accuracy: 0.9731\n",
      "Epoch 10/20\n",
      "1875/1875 [==============================] - 21s 11ms/step - loss: 0.2277 - accuracy: 0.9292 - val_loss: 0.0632 - val_accuracy: 0.9782\n",
      "Epoch 11/20\n",
      "1875/1875 [==============================] - 20s 11ms/step - loss: 0.2150 - accuracy: 0.9338 - val_loss: 0.0660 - val_accuracy: 0.9757\n",
      "Epoch 12/20\n",
      "1875/1875 [==============================] - 21s 11ms/step - loss: 0.2022 - accuracy: 0.9389 - val_loss: 0.0602 - val_accuracy: 0.9789\n",
      "Epoch 13/20\n",
      "1875/1875 [==============================] - 21s 11ms/step - loss: 0.1945 - accuracy: 0.9415 - val_loss: 0.0506 - val_accuracy: 0.9821\n",
      "Epoch 14/20\n",
      "1875/1875 [==============================] - 21s 11ms/step - loss: 0.1832 - accuracy: 0.9441 - val_loss: 0.0500 - val_accuracy: 0.9827\n",
      "Epoch 15/20\n",
      "1875/1875 [==============================] - 20s 11ms/step - loss: 0.1761 - accuracy: 0.9460 - val_loss: 0.0511 - val_accuracy: 0.9817\n",
      "Epoch 16/20\n",
      "1875/1875 [==============================] - 21s 11ms/step - loss: 0.1686 - accuracy: 0.9491 - val_loss: 0.0471 - val_accuracy: 0.9838\n",
      "Epoch 17/20\n",
      "1875/1875 [==============================] - 21s 11ms/step - loss: 0.1665 - accuracy: 0.9505 - val_loss: 0.0539 - val_accuracy: 0.9810\n",
      "Epoch 18/20\n",
      "1875/1875 [==============================] - 21s 11ms/step - loss: 0.1589 - accuracy: 0.9514 - val_loss: 0.0526 - val_accuracy: 0.9825\n",
      "Epoch 19/20\n",
      "1875/1875 [==============================] - 21s 11ms/step - loss: 0.1570 - accuracy: 0.9531 - val_loss: 0.0496 - val_accuracy: 0.9824\n",
      "Epoch 20/20\n",
      "1875/1875 [==============================] - 21s 11ms/step - loss: 0.1538 - accuracy: 0.9530 - val_loss: 0.0533 - val_accuracy: 0.9819\n"
     ]
    }
   ],
   "source": [
    "\"\"\" \n",
    "Train the model with 20 epochs and batch size of 32.\n",
    "to_categorical() method converts integer class labels into one-hot encoded vectors;\n",
    "Also used to convert predicted scores back into class labels for evaluation in classification problems.\n",
    "\n",
    "batch_size=32: the training dataset is put into mini-batches of size 32.\n",
    "\n",
    "epochs=25: The model will be trained for 20 epochs; \n",
    "This means the dataset will be passed through the model 20 times for training.\n",
    "\"\"\"\n",
    "\n",
    "history=mnist_model.fit(train_datagenerator.flow(x_train, keras.utils.to_categorical(y_train), batch_size=32),\n",
    "         epochs=20, validation_data=(x_test, keras.utils.to_categorical(y_test)))"
   ]
  },
  {
   "cell_type": "code",
   "execution_count": 21,
   "id": "fad7d52d",
   "metadata": {},
   "outputs": [
    {
     "data": {
      "image/png": "[encoded data removed]",
      "text/plain": [
       "<Figure size 640x480 with 1 Axes>"
      ]
     },
     "metadata": {},
     "output_type": "display_data"
    }
   ],
   "source": [
    "# Checking for overfitting.\n",
    "\n",
    "# Plot training loss against validation loss.\n",
    "\n",
    "#Plots the training loss as a line with label \"Training Loss\".\n",
    "plt.plot(history.history['loss'], label='Training Loss')\n",
    "\n",
    "#Plots the validation loss as a line with label \"Validation Loss\".\n",
    "plt.plot(history.history['val_loss'], label='Validation Loss')\n",
    "\n",
    "#Sets the title of the plot to \"Training and Validation Loss\".\n",
    "plt.title('Training and Validation Loss')\n",
    "\n",
    "#Sets the label of the x-axis to \"Epochs\".\n",
    "plt.xlabel('Epochs')\n",
    "\n",
    "#Sets the label of the y-axis to \"Loss\".\n",
    "plt.ylabel('Loss')\n",
    "\n",
    "#Shows the legend of the plot with the labels of the two lines.\n",
    "plt.legend()\n",
    "\n",
    "#Shows the plot on the screen.\n",
    "plt.show()"
   ]
  },
  {
   "cell_type": "code",
   "execution_count": 22,
   "id": "1a636451",
   "metadata": {},
   "outputs": [
    {
     "data": {
      "image/png": "[encoded data removed]",
      "text/plain": [
       "<Figure size 640x480 with 1 Axes>"
      ]
     },
     "metadata": {},
     "output_type": "display_data"
    }
   ],
   "source": [
    "# Plot training and validation accuracy\n",
    "\n",
    "#Plots the training accuracy as a line with label \"Training Accuracy\".\n",
    "plt.plot(history.history['accuracy'], label='Training Accuracy')\n",
    "\n",
    "#Plots the validation accuracy as a line with label \"Validation Accuracy\".\n",
    "plt.plot(history.history['val_accuracy'], label='Validation Accuracy')\n",
    "\n",
    "#Sets the title of the plot to \"Training and Validation Accuracy\".\n",
    "plt.title('Training and Validation Accuracy')\n",
    "\n",
    "#Sets the label of the x-axis to \"Epochs\".\n",
    "plt.xlabel('Epochs')\n",
    "\n",
    "#Sets the label of the y-axis to \"Accuracy\".\n",
    "plt.ylabel('Accuracy')\n",
    "\n",
    "#Shows the legend of the plot with the labels of the two lines.\n",
    "plt.legend()\n",
    "\n",
    "#Shows the plot on the screen.\n",
    "plt.show()"
   ]
  },
  {
   "cell_type": "code",
   "execution_count": 23,
   "id": "8993b2ab",
   "metadata": {},
   "outputs": [
    {
     "name": "stdout",
     "output_type": "stream",
     "text": [
      "313/313 [==============================] - 1s 4ms/step\n"
     ]
    }
   ],
   "source": [
    "\"\"\"\n",
    "Predict the classes of the test set\n",
    "\n",
    "np.argmax(model.predict(x_test), axis=-1), \n",
    "This means that the argmax operation will be applied to the output predictions of the model along the last dimension;\n",
    "This is the class probabilities for each test instance.\n",
    "argmax returns the class with the largest predicted probability.\n",
    "\"\"\"\n",
    "\n",
    "y_pred = np.argmax(mnist_model.predict(x_test), axis=-1)"
   ]
  },
  {
   "cell_type": "markdown",
   "id": "40c6c573",
   "metadata": {},
   "source": [
    "### Step 8: Visualise the results"
   ]
  },
  {
   "cell_type": "code",
   "execution_count": 24,
   "id": "310e0c51",
   "metadata": {},
   "outputs": [
    {
     "name": "stdout",
     "output_type": "stream",
     "text": [
      "              precision    recall  f1-score   support\n",
      "\n",
      "           0       0.99      1.00      0.99       980\n",
      "           1       1.00      1.00      1.00      1135\n",
      "           2       0.97      0.96      0.96      1032\n",
      "           3       1.00      0.98      0.99      1010\n",
      "           4       0.97      1.00      0.98       982\n",
      "           5       0.96      0.97      0.97       892\n",
      "           6       0.98      0.98      0.98       958\n",
      "           7       0.98      0.98      0.98      1028\n",
      "           8       0.98      0.99      0.99       974\n",
      "           9       0.99      0.97      0.98      1009\n",
      "\n",
      "    accuracy                           0.98     10000\n",
      "   macro avg       0.98      0.98      0.98     10000\n",
      "weighted avg       0.98      0.98      0.98     10000\n",
      "\n"
     ]
    }
   ],
   "source": [
    "classification_report_mnist = classification_report(y_test, y_pred,output_dict=True)\n",
    "\n",
    "print(classification_report(y_test, y_pred))"
   ]
  },
  {
   "cell_type": "code",
   "execution_count": 25,
   "id": "92dfa539",
   "metadata": {},
   "outputs": [
    {
     "data": {
      "text/html": [
       "<div>\n",
       "<style scoped>\n",
       "    .dataframe tbody tr th:only-of-type {\n",
       "        vertical-align: middle;\n",
       "    }\n",
       "\n",
       "    .dataframe tbody tr th {\n",
       "        vertical-align: top;\n",
       "    }\n",
       "\n",
       "    .dataframe thead th {\n",
       "        text-align: right;\n",
       "    }\n",
       "</style>\n",
       "<table border=\"1\" class=\"dataframe\">\n",
       "  <thead>\n",
       "    <tr style=\"text-align: right;\">\n",
       "      <th></th>\n",
       "      <th>precision</th>\n",
       "      <th>recall</th>\n",
       "      <th>f1-score</th>\n",
       "      <th>support</th>\n",
       "    </tr>\n",
       "  </thead>\n",
       "  <tbody>\n",
       "    <tr>\n",
       "      <th>0</th>\n",
       "      <td>0.991878</td>\n",
       "      <td>0.996939</td>\n",
       "      <td>0.994402</td>\n",
       "      <td>980.0000</td>\n",
       "    </tr>\n",
       "    <tr>\n",
       "      <th>1</th>\n",
       "      <td>0.996479</td>\n",
       "      <td>0.997357</td>\n",
       "      <td>0.996918</td>\n",
       "      <td>1135.0000</td>\n",
       "    </tr>\n",
       "    <tr>\n",
       "      <th>2</th>\n",
       "      <td>0.968658</td>\n",
       "      <td>0.958333</td>\n",
       "      <td>0.963468</td>\n",
       "      <td>1032.0000</td>\n",
       "    </tr>\n",
       "    <tr>\n",
       "      <th>3</th>\n",
       "      <td>0.995980</td>\n",
       "      <td>0.981188</td>\n",
       "      <td>0.988529</td>\n",
       "      <td>1010.0000</td>\n",
       "    </tr>\n",
       "    <tr>\n",
       "      <th>4</th>\n",
       "      <td>0.965551</td>\n",
       "      <td>0.998982</td>\n",
       "      <td>0.981982</td>\n",
       "      <td>982.0000</td>\n",
       "    </tr>\n",
       "    <tr>\n",
       "      <th>5</th>\n",
       "      <td>0.963211</td>\n",
       "      <td>0.968610</td>\n",
       "      <td>0.965903</td>\n",
       "      <td>892.0000</td>\n",
       "    </tr>\n",
       "    <tr>\n",
       "      <th>6</th>\n",
       "      <td>0.978079</td>\n",
       "      <td>0.978079</td>\n",
       "      <td>0.978079</td>\n",
       "      <td>958.0000</td>\n",
       "    </tr>\n",
       "    <tr>\n",
       "      <th>7</th>\n",
       "      <td>0.982405</td>\n",
       "      <td>0.977626</td>\n",
       "      <td>0.980010</td>\n",
       "      <td>1028.0000</td>\n",
       "    </tr>\n",
       "    <tr>\n",
       "      <th>8</th>\n",
       "      <td>0.984694</td>\n",
       "      <td>0.990760</td>\n",
       "      <td>0.987718</td>\n",
       "      <td>974.0000</td>\n",
       "    </tr>\n",
       "    <tr>\n",
       "      <th>9</th>\n",
       "      <td>0.988878</td>\n",
       "      <td>0.969277</td>\n",
       "      <td>0.978979</td>\n",
       "      <td>1009.0000</td>\n",
       "    </tr>\n",
       "    <tr>\n",
       "      <th>accuracy</th>\n",
       "      <td>0.981900</td>\n",
       "      <td>0.981900</td>\n",
       "      <td>0.981900</td>\n",
       "      <td>0.9819</td>\n",
       "    </tr>\n",
       "    <tr>\n",
       "      <th>macro avg</th>\n",
       "      <td>0.981581</td>\n",
       "      <td>0.981715</td>\n",
       "      <td>0.981599</td>\n",
       "      <td>10000.0000</td>\n",
       "    </tr>\n",
       "    <tr>\n",
       "      <th>weighted avg</th>\n",
       "      <td>0.981978</td>\n",
       "      <td>0.981900</td>\n",
       "      <td>0.981890</td>\n",
       "      <td>10000.0000</td>\n",
       "    </tr>\n",
       "  </tbody>\n",
       "</table>\n",
       "</div>"
      ],
      "text/plain": [
       "              precision    recall  f1-score     support\n",
       "0              0.991878  0.996939  0.994402    980.0000\n",
       "1              0.996479  0.997357  0.996918   1135.0000\n",
       "2              0.968658  0.958333  0.963468   1032.0000\n",
       "3              0.995980  0.981188  0.988529   1010.0000\n",
       "4              0.965551  0.998982  0.981982    982.0000\n",
       "5              0.963211  0.968610  0.965903    892.0000\n",
       "6              0.978079  0.978079  0.978079    958.0000\n",
       "7              0.982405  0.977626  0.980010   1028.0000\n",
       "8              0.984694  0.990760  0.987718    974.0000\n",
       "9              0.988878  0.969277  0.978979   1009.0000\n",
       "accuracy       0.981900  0.981900  0.981900      0.9819\n",
       "macro avg      0.981581  0.981715  0.981599  10000.0000\n",
       "weighted avg   0.981978  0.981900  0.981890  10000.0000"
      ]
     },
     "execution_count": 25,
     "metadata": {},
     "output_type": "execute_result"
    }
   ],
   "source": [
    "mnist_df = pd.DataFrame(classification_report_mnist).transpose()\n",
    "mnist_df"
   ]
  },
  {
   "cell_type": "markdown",
   "id": "6b4da650",
   "metadata": {},
   "source": [
    "# Question A \n",
    "\n",
    "- How did the use of different regularisation methods affect the performance of your CNN model?"
   ]
  },
  {
   "cell_type": "markdown",
   "id": "b9916457",
   "metadata": {},
   "source": [
    "- The following Some regularization methods were used to improve the generalisation of our model on unseen data:\n",
    "    - Dropout\n",
    "    - Early Stopping\n",
    "    - L1 and L2\n",
    "    - Data Augmentation\n",
    "    - Batch Normaliztion"
   ]
  },
  {
   "cell_type": "markdown",
   "id": "54d517aa",
   "metadata": {},
   "source": [
    "### Regularisation Method - Early Stopping"
   ]
  },
  {
   "cell_type": "code",
   "execution_count": 26,
   "id": "fae02c00",
   "metadata": {},
   "outputs": [],
   "source": [
    "mnist_model_2 = Sequential()\n",
    "mnist_model_2.add(Conv2D(filters=32,kernel_size=(3,3),input_shape=(28,28,1),activation = 'relu',padding = 'same'))\n",
    "mnist_model_2.add(MaxPooling2D(pool_size=(2,2)))\n",
    "mnist_model_2.add(Conv2D(filters=64,kernel_size=(3,3),activation = 'relu'))\n",
    "mnist_model_2.add(MaxPooling2D(pool_size=(2,2)))\n",
    "mnist_model_2.add(Conv2D(filters=128,kernel_size=(3,3),activation = 'relu'))\n",
    "mnist_model_2.add(MaxPooling2D(pool_size=(2,2)))\n",
    "mnist_model_2.add(Flatten())\n",
    "mnist_model_2.add(Dense(128,activation = 'relu'))\n",
    "mnist_model_2.add(Dropout(0.5))\n",
    "mnist_model_2.add(Dense(10,activation = 'softmax'))\n",
    "#compiling the model\n",
    "mnist_model_2.compile(optimizer=SGD(learning_rate=0.001, momentum=0.9), loss='categorical_crossentropy', \n",
    "                      metrics=['accuracy'])"
   ]
  },
  {
   "cell_type": "code",
   "execution_count": 27,
   "id": "10cda186",
   "metadata": {},
   "outputs": [
    {
     "name": "stdout",
     "output_type": "stream",
     "text": [
      "Epoch 1/25\n",
      "1875/1875 [==============================] - 20s 11ms/step - loss: 1.4854 - accuracy: 0.4879 - val_loss: 0.4294 - val_accuracy: 0.8572\n",
      "Epoch 2/25\n",
      "1875/1875 [==============================] - 20s 11ms/step - loss: 0.6991 - accuracy: 0.7662 - val_loss: 0.2654 - val_accuracy: 0.9143\n",
      "Epoch 3/25\n",
      "1875/1875 [==============================] - 21s 11ms/step - loss: 0.5254 - accuracy: 0.8311 - val_loss: 0.1806 - val_accuracy: 0.9424\n",
      "Epoch 4/25\n",
      "1875/1875 [==============================] - 21s 11ms/step - loss: 0.4255 - accuracy: 0.8650 - val_loss: 0.1291 - val_accuracy: 0.9615\n",
      "Epoch 5/25\n",
      "1875/1875 [==============================] - 21s 11ms/step - loss: 0.3584 - accuracy: 0.8870 - val_loss: 0.1122 - val_accuracy: 0.9628\n",
      "Epoch 6/25\n",
      "1875/1875 [==============================] - 21s 11ms/step - loss: 0.3161 - accuracy: 0.9014 - val_loss: 0.0934 - val_accuracy: 0.9692\n",
      "Epoch 7/25\n",
      "1875/1875 [==============================] - 21s 11ms/step - loss: 0.2912 - accuracy: 0.9108 - val_loss: 0.0802 - val_accuracy: 0.9731\n",
      "Epoch 8/25\n",
      "1875/1875 [==============================] - 21s 11ms/step - loss: 0.2598 - accuracy: 0.9203 - val_loss: 0.0797 - val_accuracy: 0.9728\n",
      "Epoch 9/25\n",
      "1875/1875 [==============================] - 20s 11ms/step - loss: 0.2416 - accuracy: 0.9252 - val_loss: 0.0675 - val_accuracy: 0.9771\n",
      "Epoch 10/25\n",
      "1875/1875 [==============================] - 21s 11ms/step - loss: 0.2253 - accuracy: 0.9312 - val_loss: 0.0667 - val_accuracy: 0.9785\n",
      "Epoch 11/25\n",
      "1875/1875 [==============================] - 21s 11ms/step - loss: 0.2192 - accuracy: 0.9331 - val_loss: 0.0627 - val_accuracy: 0.9773\n",
      "Epoch 12/25\n",
      "1875/1875 [==============================] - 21s 11ms/step - loss: 0.2014 - accuracy: 0.9383 - val_loss: 0.0572 - val_accuracy: 0.9800\n",
      "Epoch 13/25\n",
      "1875/1875 [==============================] - 21s 11ms/step - loss: 0.1924 - accuracy: 0.9411 - val_loss: 0.0580 - val_accuracy: 0.9801\n",
      "Epoch 14/25\n",
      "1875/1875 [==============================] - 21s 11ms/step - loss: 0.1878 - accuracy: 0.9438 - val_loss: 0.0589 - val_accuracy: 0.9795\n",
      "Epoch 15/25\n",
      "1875/1875 [==============================] - 20s 11ms/step - loss: 0.1758 - accuracy: 0.9455 - val_loss: 0.0641 - val_accuracy: 0.9797\n",
      "Epoch 16/25\n",
      "1875/1875 [==============================] - 21s 11ms/step - loss: 0.1729 - accuracy: 0.9470 - val_loss: 0.0587 - val_accuracy: 0.9802\n",
      "Epoch 17/25\n",
      "1875/1875 [==============================] - 21s 11ms/step - loss: 0.1672 - accuracy: 0.9495 - val_loss: 0.0534 - val_accuracy: 0.9812\n",
      "Epoch 18/25\n",
      "1875/1875 [==============================] - 21s 11ms/step - loss: 0.1623 - accuracy: 0.9510 - val_loss: 0.0531 - val_accuracy: 0.9823\n",
      "Epoch 19/25\n",
      "1875/1875 [==============================] - 21s 11ms/step - loss: 0.1583 - accuracy: 0.9513 - val_loss: 0.0507 - val_accuracy: 0.9820\n",
      "Epoch 20/25\n",
      "1875/1875 [==============================] - 21s 11ms/step - loss: 0.1518 - accuracy: 0.9541 - val_loss: 0.0520 - val_accuracy: 0.9823\n",
      "Epoch 21/25\n",
      "1875/1875 [==============================] - 20s 11ms/step - loss: 0.1485 - accuracy: 0.9556 - val_loss: 0.0563 - val_accuracy: 0.9809\n",
      "Epoch 22/25\n",
      "1875/1875 [==============================] - 20s 11ms/step - loss: 0.1460 - accuracy: 0.9557 - val_loss: 0.0471 - val_accuracy: 0.9840\n",
      "Epoch 23/25\n",
      "1875/1875 [==============================] - 20s 11ms/step - loss: 0.1437 - accuracy: 0.9561 - val_loss: 0.0517 - val_accuracy: 0.9818\n",
      "Epoch 24/25\n",
      "1875/1875 [==============================] - 21s 11ms/step - loss: 0.1408 - accuracy: 0.9570 - val_loss: 0.0469 - val_accuracy: 0.9833\n",
      "Epoch 25/25\n",
      "1875/1875 [==============================] - 20s 11ms/step - loss: 0.1353 - accuracy: 0.9592 - val_loss: 0.0441 - val_accuracy: 0.9848\n"
     ]
    }
   ],
   "source": [
    "# Training the model.\n",
    "\n",
    "earlystopping = callbacks.EarlyStopping(monitor=\"val_loss\",mode=\"min\", patience=5,restore_best_weights=True,verbose=1)\n",
    " \n",
    "history_2=mnist_model_2.fit(train_datagenerator.flow(x_train, keras.utils.to_categorical(y_train), batch_size=32),\n",
    "          epochs=25, validation_data=(x_test, keras.utils.to_categorical(y_test)),callbacks=[earlystopping])"
   ]
  },
  {
   "cell_type": "code",
   "execution_count": 28,
   "id": "1fcacc5a",
   "metadata": {},
   "outputs": [
    {
     "data": {
      "image/png": "[encoded data removed]",
      "text/plain": [
       "<Figure size 640x480 with 1 Axes>"
      ]
     },
     "metadata": {},
     "output_type": "display_data"
    }
   ],
   "source": [
    "# Checking for overfitting\n",
    "\n",
    "# Plot training loss against validation loss\n",
    "\n",
    "#Plots the training loss as a line with label \"Training Loss\".\n",
    "plt.plot(history_2.history['loss'], label='Training Loss')\n",
    "\n",
    "#Plots the validation loss as a line with label \"Validation Loss\".\n",
    "plt.plot(history_2.history['val_loss'], label='Validation Loss')\n",
    "\n",
    "#Sets the title of the plot to \"Training and Validation Loss\".\n",
    "plt.title('Training and Validation Loss (With Early Stopping)')\n",
    "\n",
    "#Sets the label of the x-axis to \"Epochs\".\n",
    "plt.xlabel('Epochs')\n",
    "\n",
    "#Sets the label of the y-axis to \"Loss\".\n",
    "plt.ylabel('Loss')\n",
    "\n",
    "#Shows the legend of the plot with the labels of the two lines.\n",
    "plt.legend()\n",
    "\n",
    "#Shows the plot on the screen.\n",
    "plt.show()"
   ]
  },
  {
   "cell_type": "code",
   "execution_count": 29,
   "id": "08156fc6",
   "metadata": {},
   "outputs": [
    {
     "data": {
      "image/png": "[encoded data removed]",
      "text/plain": [
       "<Figure size 640x480 with 1 Axes>"
      ]
     },
     "metadata": {},
     "output_type": "display_data"
    }
   ],
   "source": [
    "# Plot training and validation accuracy\n",
    "\n",
    "#Plots the training accuracy as a line with label \"Training Accuracy\".\n",
    "plt.plot(history_2.history['accuracy'], label='Training Accuracy')\n",
    "\n",
    "#Plots the validation accuracy as a line with label \"Validation Accuracy\".\n",
    "plt.plot(history_2.history['val_accuracy'], label='Validation Accuracy')\n",
    "\n",
    "#Sets the title of the plot to \"Training and Validation Accuracy\".\n",
    "plt.title('Training and Validation Accuracy (With Early Stopping)')\n",
    "\n",
    "#Sets the label of the x-axis to \"Epochs\".\n",
    "plt.xlabel('Epochs')\n",
    "\n",
    "#Sets the label of the y-axis to \"Accuracy\".\n",
    "plt.ylabel('Accuracy')\n",
    "\n",
    "#Shows the legend of the plot with the labels of the two lines.\n",
    "plt.legend()\n",
    "\n",
    "#Shows the plot on the screen.\n",
    "plt.show()"
   ]
  },
  {
   "cell_type": "code",
   "execution_count": 30,
   "id": "5e82cf48",
   "metadata": {},
   "outputs": [
    {
     "name": "stdout",
     "output_type": "stream",
     "text": [
      "313/313 [==============================] - 1s 3ms/step\n"
     ]
    }
   ],
   "source": [
    "#make predictions\n",
    "y_pred_2 = np.argmax(mnist_model_2.predict(x_test), axis=-1)"
   ]
  },
  {
   "cell_type": "code",
   "execution_count": 31,
   "id": "d6b3a3e1",
   "metadata": {},
   "outputs": [
    {
     "name": "stdout",
     "output_type": "stream",
     "text": [
      "              precision    recall  f1-score   support\n",
      "\n",
      "           0       1.00      1.00      1.00       980\n",
      "           1       1.00      0.99      1.00      1135\n",
      "           2       0.97      0.96      0.97      1032\n",
      "           3       1.00      0.99      0.99      1010\n",
      "           4       0.98      0.99      0.99       982\n",
      "           5       0.97      0.97      0.97       892\n",
      "           6       0.96      0.99      0.98       958\n",
      "           7       0.99      0.98      0.98      1028\n",
      "           8       0.99      0.99      0.99       974\n",
      "           9       0.98      0.99      0.99      1009\n",
      "\n",
      "    accuracy                           0.98     10000\n",
      "   macro avg       0.98      0.98      0.98     10000\n",
      "weighted avg       0.98      0.98      0.98     10000\n",
      "\n"
     ]
    }
   ],
   "source": [
    "#Visualize the result\n",
    "\n",
    "classification_report2_mnist = classification_report(y_test, y_pred_2,output_dict=True)\n",
    "\n",
    "print(classification_report(y_test, y_pred_2))"
   ]
  },
  {
   "cell_type": "code",
   "execution_count": 32,
   "id": "430aab84",
   "metadata": {},
   "outputs": [
    {
     "data": {
      "text/html": [
       "<div>\n",
       "<style scoped>\n",
       "    .dataframe tbody tr th:only-of-type {\n",
       "        vertical-align: middle;\n",
       "    }\n",
       "\n",
       "    .dataframe tbody tr th {\n",
       "        vertical-align: top;\n",
       "    }\n",
       "\n",
       "    .dataframe thead th {\n",
       "        text-align: right;\n",
       "    }\n",
       "</style>\n",
       "<table border=\"1\" class=\"dataframe\">\n",
       "  <thead>\n",
       "    <tr style=\"text-align: right;\">\n",
       "      <th></th>\n",
       "      <th>precision</th>\n",
       "      <th>recall</th>\n",
       "      <th>f1-score</th>\n",
       "      <th>support</th>\n",
       "    </tr>\n",
       "  </thead>\n",
       "  <tbody>\n",
       "    <tr>\n",
       "      <th>0</th>\n",
       "      <td>0.996936</td>\n",
       "      <td>0.995918</td>\n",
       "      <td>0.996427</td>\n",
       "      <td>980.0000</td>\n",
       "    </tr>\n",
       "    <tr>\n",
       "      <th>1</th>\n",
       "      <td>0.995591</td>\n",
       "      <td>0.994714</td>\n",
       "      <td>0.995152</td>\n",
       "      <td>1135.0000</td>\n",
       "    </tr>\n",
       "    <tr>\n",
       "      <th>2</th>\n",
       "      <td>0.973399</td>\n",
       "      <td>0.957364</td>\n",
       "      <td>0.965315</td>\n",
       "      <td>1032.0000</td>\n",
       "    </tr>\n",
       "    <tr>\n",
       "      <th>3</th>\n",
       "      <td>0.995025</td>\n",
       "      <td>0.990099</td>\n",
       "      <td>0.992556</td>\n",
       "      <td>1010.0000</td>\n",
       "    </tr>\n",
       "    <tr>\n",
       "      <th>4</th>\n",
       "      <td>0.984787</td>\n",
       "      <td>0.988798</td>\n",
       "      <td>0.986789</td>\n",
       "      <td>982.0000</td>\n",
       "    </tr>\n",
       "    <tr>\n",
       "      <th>5</th>\n",
       "      <td>0.972004</td>\n",
       "      <td>0.973094</td>\n",
       "      <td>0.972549</td>\n",
       "      <td>892.0000</td>\n",
       "    </tr>\n",
       "    <tr>\n",
       "      <th>6</th>\n",
       "      <td>0.964431</td>\n",
       "      <td>0.990605</td>\n",
       "      <td>0.977343</td>\n",
       "      <td>958.0000</td>\n",
       "    </tr>\n",
       "    <tr>\n",
       "      <th>7</th>\n",
       "      <td>0.988201</td>\n",
       "      <td>0.977626</td>\n",
       "      <td>0.982885</td>\n",
       "      <td>1028.0000</td>\n",
       "    </tr>\n",
       "    <tr>\n",
       "      <th>8</th>\n",
       "      <td>0.992798</td>\n",
       "      <td>0.990760</td>\n",
       "      <td>0.991778</td>\n",
       "      <td>974.0000</td>\n",
       "    </tr>\n",
       "    <tr>\n",
       "      <th>9</th>\n",
       "      <td>0.982266</td>\n",
       "      <td>0.988107</td>\n",
       "      <td>0.985178</td>\n",
       "      <td>1009.0000</td>\n",
       "    </tr>\n",
       "    <tr>\n",
       "      <th>accuracy</th>\n",
       "      <td>0.984800</td>\n",
       "      <td>0.984800</td>\n",
       "      <td>0.984800</td>\n",
       "      <td>0.9848</td>\n",
       "    </tr>\n",
       "    <tr>\n",
       "      <th>macro avg</th>\n",
       "      <td>0.984544</td>\n",
       "      <td>0.984709</td>\n",
       "      <td>0.984597</td>\n",
       "      <td>10000.0000</td>\n",
       "    </tr>\n",
       "    <tr>\n",
       "      <th>weighted avg</th>\n",
       "      <td>0.984849</td>\n",
       "      <td>0.984800</td>\n",
       "      <td>0.984796</td>\n",
       "      <td>10000.0000</td>\n",
       "    </tr>\n",
       "  </tbody>\n",
       "</table>\n",
       "</div>"
      ],
      "text/plain": [
       "              precision    recall  f1-score     support\n",
       "0              0.996936  0.995918  0.996427    980.0000\n",
       "1              0.995591  0.994714  0.995152   1135.0000\n",
       "2              0.973399  0.957364  0.965315   1032.0000\n",
       "3              0.995025  0.990099  0.992556   1010.0000\n",
       "4              0.984787  0.988798  0.986789    982.0000\n",
       "5              0.972004  0.973094  0.972549    892.0000\n",
       "6              0.964431  0.990605  0.977343    958.0000\n",
       "7              0.988201  0.977626  0.982885   1028.0000\n",
       "8              0.992798  0.990760  0.991778    974.0000\n",
       "9              0.982266  0.988107  0.985178   1009.0000\n",
       "accuracy       0.984800  0.984800  0.984800      0.9848\n",
       "macro avg      0.984544  0.984709  0.984597  10000.0000\n",
       "weighted avg   0.984849  0.984800  0.984796  10000.0000"
      ]
     },
     "execution_count": 32,
     "metadata": {},
     "output_type": "execute_result"
    }
   ],
   "source": [
    "mnist_df_2 = pd.DataFrame(classification_report2_mnist).transpose()\n",
    "mnist_df_2"
   ]
  },
  {
   "cell_type": "markdown",
   "id": "2592c69c",
   "metadata": {},
   "source": [
    "### Observations\n",
    "- The model had it's least validation loss of 0.0441 at the 25th epoch, hence, this epoch value will be kept constant.\n",
    "- The training completed up to the 25th epoch with early stopping in-place, meaning the model did not overfit up to \n",
    "  the 25th epoch ."
   ]
  },
  {
   "cell_type": "markdown",
   "id": "53daa665",
   "metadata": {},
   "source": [
    "### Regularisation Method - Batch Normaliztion"
   ]
  },
  {
   "cell_type": "markdown",
   "id": "b63df2d8",
   "metadata": {},
   "source": [
    "We would examine the introduction of Batch Normalization into our model because it normalizes the matrix after it has been through a convolution layer. It reduces training time and ensures that the scale of each dimension remains the same."
   ]
  },
  {
   "cell_type": "code",
   "execution_count": 33,
   "id": "cd26290d",
   "metadata": {},
   "outputs": [],
   "source": [
    "mnist_model_3 = Sequential()\n",
    "mnist_model_3.add(Conv2D(filters=32,kernel_size=(3,3),input_shape=(28,28,1),activation = 'relu',padding = 'same'))\n",
    "mnist_model_3.add(MaxPooling2D(pool_size=(2,2)))\n",
    "mnist_model_3.add(Conv2D(filters=64,kernel_size=(3,3),activation = 'relu'))\n",
    "mnist_model_3.add(MaxPooling2D(pool_size=(2,2)))\n",
    "mnist_model_3.add(Conv2D(filters=128,kernel_size=(3,3),activation = 'relu'))\n",
    "mnist_model_3.add(MaxPooling2D(pool_size=(2,2)))\n",
    "mnist_model_3.add(Flatten())\n",
    "mnist_model_3.add(BatchNormalization())\n",
    "mnist_model_3.add(Dense(128,activation = 'relu'))\n",
    "mnist_model_3.add(Dropout(0.5))\n",
    "mnist_model_3.add(Dense(10,activation = 'softmax'))\n",
    "#compiling the model\n",
    "mnist_model_3.compile(optimizer=SGD(learning_rate=0.001, momentum=0.9), loss='categorical_crossentropy', \n",
    "                      metrics=['accuracy'])"
   ]
  },
  {
   "cell_type": "code",
   "execution_count": 34,
   "id": "7bab3ee3",
   "metadata": {},
   "outputs": [
    {
     "name": "stdout",
     "output_type": "stream",
     "text": [
      "Epoch 1/25\n",
      "1875/1875 [==============================] - 21s 11ms/step - loss: 0.7626 - accuracy: 0.7484 - val_loss: 0.2496 - val_accuracy: 0.9229\n",
      "Epoch 2/25\n",
      "1875/1875 [==============================] - 21s 11ms/step - loss: 0.3704 - accuracy: 0.8839 - val_loss: 0.2137 - val_accuracy: 0.9339\n",
      "Epoch 3/25\n",
      "1875/1875 [==============================] - 21s 11ms/step - loss: 0.2839 - accuracy: 0.9122 - val_loss: 0.1081 - val_accuracy: 0.9664\n",
      "Epoch 4/25\n",
      "1875/1875 [==============================] - 21s 11ms/step - loss: 0.2443 - accuracy: 0.9242 - val_loss: 0.0686 - val_accuracy: 0.9783\n",
      "Epoch 5/25\n",
      "1875/1875 [==============================] - 21s 11ms/step - loss: 0.2137 - accuracy: 0.9337 - val_loss: 0.0777 - val_accuracy: 0.9755\n",
      "Epoch 6/25\n",
      "1875/1875 [==============================] - 21s 11ms/step - loss: 0.1933 - accuracy: 0.9408 - val_loss: 0.1093 - val_accuracy: 0.9659\n",
      "Epoch 7/25\n",
      "1875/1875 [==============================] - 21s 11ms/step - loss: 0.1845 - accuracy: 0.9440 - val_loss: 0.0764 - val_accuracy: 0.9755\n",
      "Epoch 8/25\n",
      "1875/1875 [==============================] - 22s 12ms/step - loss: 0.1701 - accuracy: 0.9475 - val_loss: 0.0763 - val_accuracy: 0.9765\n",
      "Epoch 9/25\n",
      "1875/1875 [==============================] - 21s 11ms/step - loss: 0.1630 - accuracy: 0.9509 - val_loss: 0.0563 - val_accuracy: 0.9830\n",
      "Epoch 10/25\n",
      "1875/1875 [==============================] - 22s 12ms/step - loss: 0.1527 - accuracy: 0.9530 - val_loss: 0.0624 - val_accuracy: 0.9801\n",
      "Epoch 11/25\n",
      "1875/1875 [==============================] - 22s 12ms/step - loss: 0.1507 - accuracy: 0.9539 - val_loss: 0.0502 - val_accuracy: 0.9847\n",
      "Epoch 12/25\n",
      "1875/1875 [==============================] - 21s 11ms/step - loss: 0.1448 - accuracy: 0.9562 - val_loss: 0.0507 - val_accuracy: 0.9837\n",
      "Epoch 13/25\n",
      "1875/1875 [==============================] - 21s 11ms/step - loss: 0.1364 - accuracy: 0.9586 - val_loss: 0.0635 - val_accuracy: 0.9799\n",
      "Epoch 14/25\n",
      "1875/1875 [==============================] - 22s 12ms/step - loss: 0.1311 - accuracy: 0.9598 - val_loss: 0.0555 - val_accuracy: 0.9835\n",
      "Epoch 15/25\n",
      "1875/1875 [==============================] - 22s 12ms/step - loss: 0.1323 - accuracy: 0.9602 - val_loss: 0.0592 - val_accuracy: 0.9806\n",
      "Epoch 16/25\n",
      "1875/1875 [==============================] - 21s 11ms/step - loss: 0.1286 - accuracy: 0.9607 - val_loss: 0.0393 - val_accuracy: 0.9868\n",
      "Epoch 17/25\n",
      "1875/1875 [==============================] - 21s 11ms/step - loss: 0.1259 - accuracy: 0.9615 - val_loss: 0.0575 - val_accuracy: 0.9835\n",
      "Epoch 18/25\n",
      "1875/1875 [==============================] - 21s 11ms/step - loss: 0.1220 - accuracy: 0.9633 - val_loss: 0.0809 - val_accuracy: 0.9764\n",
      "Epoch 19/25\n",
      "1875/1875 [==============================] - 21s 11ms/step - loss: 0.1188 - accuracy: 0.9640 - val_loss: 0.0595 - val_accuracy: 0.9831\n",
      "Epoch 20/25\n",
      "1875/1875 [==============================] - 21s 11ms/step - loss: 0.1188 - accuracy: 0.9637 - val_loss: 0.0414 - val_accuracy: 0.9875\n",
      "Epoch 21/25\n",
      "1875/1875 [==============================] - 21s 11ms/step - loss: 0.1147 - accuracy: 0.9653 - val_loss: 0.0650 - val_accuracy: 0.9793\n",
      "Epoch 22/25\n",
      "1875/1875 [==============================] - 21s 11ms/step - loss: 0.1126 - accuracy: 0.9654 - val_loss: 0.0456 - val_accuracy: 0.9860\n",
      "Epoch 23/25\n",
      "1875/1875 [==============================] - 21s 11ms/step - loss: 0.1088 - accuracy: 0.9685 - val_loss: 0.0495 - val_accuracy: 0.9856\n",
      "Epoch 24/25\n",
      "1875/1875 [==============================] - 21s 11ms/step - loss: 0.1084 - accuracy: 0.9682 - val_loss: 0.0370 - val_accuracy: 0.9883\n",
      "Epoch 25/25\n",
      "1875/1875 [==============================] - 21s 11ms/step - loss: 0.1074 - accuracy: 0.9671 - val_loss: 0.0408 - val_accuracy: 0.9874\n"
     ]
    }
   ],
   "source": [
    "#Training and evaluating the model\n",
    "\n",
    "history_3=mnist_model_3.fit(train_datagenerator.flow(x_train, keras.utils.to_categorical(y_train), batch_size=32),\n",
    "         epochs=25, validation_data=(x_test, keras.utils.to_categorical(y_test)))"
   ]
  },
  {
   "cell_type": "code",
   "execution_count": 35,
   "id": "78bc12d6",
   "metadata": {},
   "outputs": [
    {
     "data": {
      "image/png": "[encoded data removed]",
      "text/plain": [
       "<Figure size 640x480 with 1 Axes>"
      ]
     },
     "metadata": {},
     "output_type": "display_data"
    }
   ],
   "source": [
    "# Checking for overfitting\n",
    "\n",
    "# Plot training loss against validation loss\n",
    "\n",
    "#Plots the training loss as a line with label \"Training Loss\".\n",
    "plt.plot(history_3.history['loss'], label='Training Loss')\n",
    "\n",
    "#Plots the validation loss as a line with label \"Validation Loss\".\n",
    "plt.plot(history_3.history['val_loss'], label='Validation Loss')\n",
    "\n",
    "#Sets the title of the plot to \"Training and Validation Loss\".\n",
    "plt.title('Training and Validation Loss (With Batch Normalization)')\n",
    "\n",
    "#Sets the label of the x-axis to \"Epochs\".\n",
    "plt.xlabel('Epochs')\n",
    "\n",
    "#Sets the label of the y-axis to \"Loss\".\n",
    "plt.ylabel('Loss')\n",
    "\n",
    "#Shows the legend of the plot with the labels of the two lines.\n",
    "plt.legend()\n",
    "\n",
    "#Shows the plot on the screen.\n",
    "plt.show()"
   ]
  },
  {
   "cell_type": "code",
   "execution_count": 36,
   "id": "722eeca0",
   "metadata": {},
   "outputs": [
    {
     "data": {
      "image/png": "[encoded data removed]",
      "text/plain": [
       "<Figure size 640x480 with 1 Axes>"
      ]
     },
     "metadata": {},
     "output_type": "display_data"
    }
   ],
   "source": [
    "# Plot training and validation accuracy\n",
    "\n",
    "#Plots the training accuracy as a line with label \"Training Accuracy\".\n",
    "plt.plot(history_3.history['accuracy'], label='Training Accuracy')\n",
    "\n",
    "#Plots the validation accuracy as a line with label \"Validation Accuracy\".\n",
    "plt.plot(history_3.history['val_accuracy'], label='Validation Accuracy')\n",
    "\n",
    "#Sets the title of the plot to \"Training and Validation Accuracy\".\n",
    "plt.title('Training and Validation Accuracy (With Batch Normalization)')\n",
    "\n",
    "#Sets the label of the x-axis to \"Epochs\".\n",
    "plt.xlabel('Epochs')\n",
    "\n",
    "#Sets the label of the y-axis to \"Accuracy\".\n",
    "plt.ylabel('Accuracy')\n",
    "\n",
    "#Shows the legend of the plot with the labels of the two lines.\n",
    "plt.legend()\n",
    "\n",
    "#Shows the plot on the screen.\n",
    "plt.show()"
   ]
  },
  {
   "cell_type": "code",
   "execution_count": 37,
   "id": "24eb3586",
   "metadata": {},
   "outputs": [
    {
     "name": "stdout",
     "output_type": "stream",
     "text": [
      "313/313 [==============================] - 1s 4ms/step\n"
     ]
    }
   ],
   "source": [
    "# Makings predictions\n",
    "y_pred_3 = np.argmax(mnist_model_3.predict(x_test), axis=-1)"
   ]
  },
  {
   "cell_type": "code",
   "execution_count": 38,
   "id": "59c1a04b",
   "metadata": {},
   "outputs": [
    {
     "name": "stdout",
     "output_type": "stream",
     "text": [
      "              precision    recall  f1-score   support\n",
      "\n",
      "           0       0.99      0.99      0.99       980\n",
      "           1       1.00      0.99      1.00      1135\n",
      "           2       0.97      0.98      0.98      1032\n",
      "           3       0.99      1.00      0.99      1010\n",
      "           4       0.98      1.00      0.99       982\n",
      "           5       0.98      0.97      0.97       892\n",
      "           6       0.99      0.97      0.98       958\n",
      "           7       0.98      1.00      0.99      1028\n",
      "           8       1.00      0.98      0.99       974\n",
      "           9       1.00      0.98      0.99      1009\n",
      "\n",
      "    accuracy                           0.99     10000\n",
      "   macro avg       0.99      0.99      0.99     10000\n",
      "weighted avg       0.99      0.99      0.99     10000\n",
      "\n"
     ]
    }
   ],
   "source": [
    "# Visualising the result\n",
    "\n",
    "classification_report3_mnist = classification_report(y_test, y_pred_3,output_dict=True)\n",
    "\n",
    "print(classification_report(y_test, y_pred_3))"
   ]
  },
  {
   "cell_type": "code",
   "execution_count": 39,
   "id": "0212fc08",
   "metadata": {},
   "outputs": [
    {
     "data": {
      "text/html": [
       "<div>\n",
       "<style scoped>\n",
       "    .dataframe tbody tr th:only-of-type {\n",
       "        vertical-align: middle;\n",
       "    }\n",
       "\n",
       "    .dataframe tbody tr th {\n",
       "        vertical-align: top;\n",
       "    }\n",
       "\n",
       "    .dataframe thead th {\n",
       "        text-align: right;\n",
       "    }\n",
       "</style>\n",
       "<table border=\"1\" class=\"dataframe\">\n",
       "  <thead>\n",
       "    <tr style=\"text-align: right;\">\n",
       "      <th></th>\n",
       "      <th>precision</th>\n",
       "      <th>recall</th>\n",
       "      <th>f1-score</th>\n",
       "      <th>support</th>\n",
       "    </tr>\n",
       "  </thead>\n",
       "  <tbody>\n",
       "    <tr>\n",
       "      <th>0</th>\n",
       "      <td>0.992857</td>\n",
       "      <td>0.992857</td>\n",
       "      <td>0.992857</td>\n",
       "      <td>980.0000</td>\n",
       "    </tr>\n",
       "    <tr>\n",
       "      <th>1</th>\n",
       "      <td>0.998229</td>\n",
       "      <td>0.992952</td>\n",
       "      <td>0.995583</td>\n",
       "      <td>1135.0000</td>\n",
       "    </tr>\n",
       "    <tr>\n",
       "      <th>2</th>\n",
       "      <td>0.970363</td>\n",
       "      <td>0.983527</td>\n",
       "      <td>0.976901</td>\n",
       "      <td>1032.0000</td>\n",
       "    </tr>\n",
       "    <tr>\n",
       "      <th>3</th>\n",
       "      <td>0.991150</td>\n",
       "      <td>0.998020</td>\n",
       "      <td>0.994573</td>\n",
       "      <td>1010.0000</td>\n",
       "    </tr>\n",
       "    <tr>\n",
       "      <th>4</th>\n",
       "      <td>0.983936</td>\n",
       "      <td>0.997963</td>\n",
       "      <td>0.990900</td>\n",
       "      <td>982.0000</td>\n",
       "    </tr>\n",
       "    <tr>\n",
       "      <th>5</th>\n",
       "      <td>0.975309</td>\n",
       "      <td>0.974215</td>\n",
       "      <td>0.974762</td>\n",
       "      <td>892.0000</td>\n",
       "    </tr>\n",
       "    <tr>\n",
       "      <th>6</th>\n",
       "      <td>0.989407</td>\n",
       "      <td>0.974948</td>\n",
       "      <td>0.982124</td>\n",
       "      <td>958.0000</td>\n",
       "    </tr>\n",
       "    <tr>\n",
       "      <th>7</th>\n",
       "      <td>0.979904</td>\n",
       "      <td>0.996109</td>\n",
       "      <td>0.987940</td>\n",
       "      <td>1028.0000</td>\n",
       "    </tr>\n",
       "    <tr>\n",
       "      <th>8</th>\n",
       "      <td>0.995833</td>\n",
       "      <td>0.981520</td>\n",
       "      <td>0.988625</td>\n",
       "      <td>974.0000</td>\n",
       "    </tr>\n",
       "    <tr>\n",
       "      <th>9</th>\n",
       "      <td>0.995968</td>\n",
       "      <td>0.979187</td>\n",
       "      <td>0.987506</td>\n",
       "      <td>1009.0000</td>\n",
       "    </tr>\n",
       "    <tr>\n",
       "      <th>accuracy</th>\n",
       "      <td>0.987400</td>\n",
       "      <td>0.987400</td>\n",
       "      <td>0.987400</td>\n",
       "      <td>0.9874</td>\n",
       "    </tr>\n",
       "    <tr>\n",
       "      <th>macro avg</th>\n",
       "      <td>0.987296</td>\n",
       "      <td>0.987130</td>\n",
       "      <td>0.987177</td>\n",
       "      <td>10000.0000</td>\n",
       "    </tr>\n",
       "    <tr>\n",
       "      <th>weighted avg</th>\n",
       "      <td>0.987473</td>\n",
       "      <td>0.987400</td>\n",
       "      <td>0.987401</td>\n",
       "      <td>10000.0000</td>\n",
       "    </tr>\n",
       "  </tbody>\n",
       "</table>\n",
       "</div>"
      ],
      "text/plain": [
       "              precision    recall  f1-score     support\n",
       "0              0.992857  0.992857  0.992857    980.0000\n",
       "1              0.998229  0.992952  0.995583   1135.0000\n",
       "2              0.970363  0.983527  0.976901   1032.0000\n",
       "3              0.991150  0.998020  0.994573   1010.0000\n",
       "4              0.983936  0.997963  0.990900    982.0000\n",
       "5              0.975309  0.974215  0.974762    892.0000\n",
       "6              0.989407  0.974948  0.982124    958.0000\n",
       "7              0.979904  0.996109  0.987940   1028.0000\n",
       "8              0.995833  0.981520  0.988625    974.0000\n",
       "9              0.995968  0.979187  0.987506   1009.0000\n",
       "accuracy       0.987400  0.987400  0.987400      0.9874\n",
       "macro avg      0.987296  0.987130  0.987177  10000.0000\n",
       "weighted avg   0.987473  0.987400  0.987401  10000.0000"
      ]
     },
     "execution_count": 39,
     "metadata": {},
     "output_type": "execute_result"
    }
   ],
   "source": [
    "mnist_df_3 = pd.DataFrame(classification_report3_mnist).transpose()\n",
    "mnist_df_3"
   ]
  },
  {
   "cell_type": "markdown",
   "id": "c48867b6",
   "metadata": {},
   "source": [
    "### Observations\n",
    "\n",
    "- By using the Batch Normalization, the model's accuracy increased by 0.26% while the validation loss reduced by 16%."
   ]
  },
  {
   "cell_type": "markdown",
   "id": "ef483299",
   "metadata": {},
   "source": [
    "### Investigating the performance of the model with different optimizers.\n",
    "\n",
    "- The following parameters will be kept constant : Learning_rate, Batch_size and Epochs"
   ]
  },
  {
   "cell_type": "code",
   "execution_count": 40,
   "id": "26fcb28a",
   "metadata": {},
   "outputs": [],
   "source": [
    "mnist_model_4 = Sequential()\n",
    "mnist_model_4.add(Conv2D(filters=32,kernel_size=(3,3),input_shape=(28,28,1),activation = 'relu',padding = 'same'))\n",
    "mnist_model_4.add(MaxPooling2D(pool_size=(2,2)))\n",
    "mnist_model_4.add(Conv2D(filters=64,kernel_size=(3,3),activation = 'relu'))\n",
    "mnist_model_4.add(MaxPooling2D(pool_size=(2,2)))\n",
    "mnist_model_4.add(Conv2D(filters=128,kernel_size=(3,3),activation = 'relu'))\n",
    "mnist_model_4.add(MaxPooling2D(pool_size=(2,2)))\n",
    "mnist_model_4.add(Flatten())\n",
    "mnist_model_4.add(BatchNormalization())\n",
    "mnist_model_4.add(Dense(128,activation = 'relu'))\n",
    "mnist_model_4.add(Dropout(0.5))\n",
    "mnist_model_4.add(Dense(10,activation = 'softmax'))\n",
    "#compiling the model\n",
    "mnist_model_4.compile(optimizer=Adam(learning_rate=0.001), loss='categorical_crossentropy', metrics=['accuracy'])"
   ]
  },
  {
   "cell_type": "code",
   "execution_count": 41,
   "id": "e4c3175e",
   "metadata": {},
   "outputs": [
    {
     "name": "stdout",
     "output_type": "stream",
     "text": [
      "Epoch 1/25\n",
      "1875/1875 [==============================] - 20s 11ms/step - loss: 0.4311 - accuracy: 0.8633 - val_loss: 0.1218 - val_accuracy: 0.9654\n",
      "Epoch 2/25\n",
      "1875/1875 [==============================] - 20s 11ms/step - loss: 0.2178 - accuracy: 0.9344 - val_loss: 0.1182 - val_accuracy: 0.9652\n",
      "Epoch 3/25\n",
      "1875/1875 [==============================] - 21s 11ms/step - loss: 0.1861 - accuracy: 0.9436 - val_loss: 0.0746 - val_accuracy: 0.9801\n",
      "Epoch 4/25\n",
      "1875/1875 [==============================] - 21s 11ms/step - loss: 0.1620 - accuracy: 0.9520 - val_loss: 0.0623 - val_accuracy: 0.9814\n",
      "Epoch 5/25\n",
      "1875/1875 [==============================] - 21s 11ms/step - loss: 0.1527 - accuracy: 0.9543 - val_loss: 0.0695 - val_accuracy: 0.9799\n",
      "Epoch 6/25\n",
      "1875/1875 [==============================] - 20s 11ms/step - loss: 0.1448 - accuracy: 0.9565 - val_loss: 0.0805 - val_accuracy: 0.9774\n",
      "Epoch 7/25\n",
      "1875/1875 [==============================] - 21s 11ms/step - loss: 0.1420 - accuracy: 0.9590 - val_loss: 0.0759 - val_accuracy: 0.9808\n",
      "Epoch 8/25\n",
      "1875/1875 [==============================] - 21s 11ms/step - loss: 0.1302 - accuracy: 0.9619 - val_loss: 0.0623 - val_accuracy: 0.9822\n",
      "Epoch 9/25\n",
      "1875/1875 [==============================] - 21s 11ms/step - loss: 0.1273 - accuracy: 0.9625 - val_loss: 0.0502 - val_accuracy: 0.9850\n",
      "Epoch 10/25\n",
      "1875/1875 [==============================] - 21s 11ms/step - loss: 0.1244 - accuracy: 0.9639 - val_loss: 0.0507 - val_accuracy: 0.9853\n",
      "Epoch 11/25\n",
      "1875/1875 [==============================] - 21s 11ms/step - loss: 0.1242 - accuracy: 0.9643 - val_loss: 0.0524 - val_accuracy: 0.9848\n",
      "Epoch 12/25\n",
      "1875/1875 [==============================] - 21s 11ms/step - loss: 0.1205 - accuracy: 0.9645 - val_loss: 0.0437 - val_accuracy: 0.9872\n",
      "Epoch 13/25\n",
      "1875/1875 [==============================] - 21s 11ms/step - loss: 0.1118 - accuracy: 0.9677 - val_loss: 0.0547 - val_accuracy: 0.9850\n",
      "Epoch 14/25\n",
      "1875/1875 [==============================] - 20s 11ms/step - loss: 0.1102 - accuracy: 0.9679 - val_loss: 0.0615 - val_accuracy: 0.9805\n",
      "Epoch 15/25\n",
      "1875/1875 [==============================] - 21s 11ms/step - loss: 0.1108 - accuracy: 0.9678 - val_loss: 0.0488 - val_accuracy: 0.9847\n",
      "Epoch 16/25\n",
      "1875/1875 [==============================] - 21s 11ms/step - loss: 0.1108 - accuracy: 0.9679 - val_loss: 0.0391 - val_accuracy: 0.9877\n",
      "Epoch 17/25\n",
      "1875/1875 [==============================] - 21s 11ms/step - loss: 0.1090 - accuracy: 0.9685 - val_loss: 0.0441 - val_accuracy: 0.9866\n",
      "Epoch 18/25\n",
      "1875/1875 [==============================] - 22s 11ms/step - loss: 0.1068 - accuracy: 0.9687 - val_loss: 0.0457 - val_accuracy: 0.9869\n",
      "Epoch 19/25\n",
      "1875/1875 [==============================] - 21s 11ms/step - loss: 0.1011 - accuracy: 0.9700 - val_loss: 0.0392 - val_accuracy: 0.9886\n",
      "Epoch 20/25\n",
      "1875/1875 [==============================] - 20s 11ms/step - loss: 0.1040 - accuracy: 0.9701 - val_loss: 0.0400 - val_accuracy: 0.9874\n",
      "Epoch 21/25\n",
      "1875/1875 [==============================] - 22s 12ms/step - loss: 0.1004 - accuracy: 0.9708 - val_loss: 0.0450 - val_accuracy: 0.9867\n",
      "Epoch 22/25\n",
      "1875/1875 [==============================] - 21s 11ms/step - loss: 0.1026 - accuracy: 0.9697 - val_loss: 0.0486 - val_accuracy: 0.9863\n",
      "Epoch 23/25\n",
      "1875/1875 [==============================] - 21s 11ms/step - loss: 0.0983 - accuracy: 0.9711 - val_loss: 0.0542 - val_accuracy: 0.9846\n",
      "Epoch 24/25\n",
      "1875/1875 [==============================] - 21s 11ms/step - loss: 0.0975 - accuracy: 0.9709 - val_loss: 0.0437 - val_accuracy: 0.9874\n",
      "Epoch 25/25\n",
      "1875/1875 [==============================] - 21s 11ms/step - loss: 0.0929 - accuracy: 0.9722 - val_loss: 0.0446 - val_accuracy: 0.9870\n"
     ]
    }
   ],
   "source": [
    "#Training and evaluating the model\n",
    "history_4=mnist_model_4.fit(train_datagenerator.flow(x_train, keras.utils.to_categorical(y_train), batch_size=32),\n",
    "         epochs=25, validation_data=(x_test, keras.utils.to_categorical(y_test)))"
   ]
  },
  {
   "cell_type": "code",
   "execution_count": 42,
   "id": "e3198068",
   "metadata": {},
   "outputs": [
    {
     "data": {
      "image/png": "[encoded data removed]",
      "text/plain": [
       "<Figure size 640x480 with 1 Axes>"
      ]
     },
     "metadata": {},
     "output_type": "display_data"
    }
   ],
   "source": [
    "# Checking for overfitting\n",
    "\n",
    "# Plot training loss against validation loss\n",
    "\n",
    "# Plots the training loss as a line with label \"Training Loss\".\n",
    "plt.plot(history_4.history['loss'], label='Training Loss')\n",
    "\n",
    "#Plots the validation loss as a line with label \"Validation Loss\".\n",
    "plt.plot(history_4.history['val_loss'], label='Validation Loss')\n",
    "\n",
    "#Sets the title of the plot to \"Training and Validation Loss\".\n",
    "plt.title('Training and Validation Loss (With ADAM as optimizer)')\n",
    "\n",
    "#Sets the label of the x-axis to \"Epochs\".\n",
    "plt.xlabel('Epochs')\n",
    "\n",
    "#Sets the label of the y-axis to \"Loss\".\n",
    "plt.ylabel('Loss')\n",
    "\n",
    "#Shows the legend of the plot with the labels of the two lines.\n",
    "plt.legend()\n",
    "\n",
    "#Shows the plot on the screen.\n",
    "plt.show()"
   ]
  },
  {
   "cell_type": "code",
   "execution_count": 43,
   "id": "71839c6d",
   "metadata": {},
   "outputs": [
    {
     "data": {
      "image/png": "[encoded data removed]",
      "text/plain": [
       "<Figure size 640x480 with 1 Axes>"
      ]
     },
     "metadata": {},
     "output_type": "display_data"
    }
   ],
   "source": [
    "# Plot training and validation accuracy\n",
    "\n",
    "#Plots the training accuracy as a line with label \"Training Accuracy\".\n",
    "plt.plot(history_4.history['accuracy'], label='Training Accuracy')\n",
    "\n",
    "#Plots the validation accuracy as a line with label \"Validation Accuracy\".\n",
    "plt.plot(history_4.history['val_accuracy'], label='Validation Accuracy')\n",
    "\n",
    "#Sets the title of the plot to \"Training and Validation Accuracy\".\n",
    "plt.title('Training and Validation Accuracy (With ADAM as optimizer)')\n",
    "\n",
    "#Sets the label of the x-axis to \"Epochs\".\n",
    "plt.xlabel('Epochs')\n",
    "\n",
    "#Sets the label of the y-axis to \"Accuracy\".\n",
    "plt.ylabel('Accuracy')\n",
    "\n",
    "#Shows the legend of the plot with the labels of the two lines.\n",
    "plt.legend()\n",
    "\n",
    "#Shows the plot on the screen.\n",
    "plt.show()"
   ]
  },
  {
   "cell_type": "code",
   "execution_count": 44,
   "id": "5d076b14",
   "metadata": {},
   "outputs": [
    {
     "name": "stdout",
     "output_type": "stream",
     "text": [
      "313/313 [==============================] - 1s 4ms/step\n"
     ]
    }
   ],
   "source": [
    "# Making predictions\n",
    "y_pred_4 = np.argmax(mnist_model_4.predict(x_test), axis=-1)"
   ]
  },
  {
   "cell_type": "code",
   "execution_count": 45,
   "id": "e05c533d",
   "metadata": {},
   "outputs": [
    {
     "name": "stdout",
     "output_type": "stream",
     "text": [
      "              precision    recall  f1-score   support\n",
      "\n",
      "           0       0.99      0.99      0.99       980\n",
      "           1       1.00      1.00      1.00      1135\n",
      "           2       0.97      0.97      0.97      1032\n",
      "           3       0.99      1.00      0.99      1010\n",
      "           4       1.00      0.97      0.99       982\n",
      "           5       0.98      0.98      0.98       892\n",
      "           6       0.98      0.98      0.98       958\n",
      "           7       1.00      0.99      0.99      1028\n",
      "           8       0.99      1.00      0.99       974\n",
      "           9       0.97      1.00      0.99      1009\n",
      "\n",
      "    accuracy                           0.99     10000\n",
      "   macro avg       0.99      0.99      0.99     10000\n",
      "weighted avg       0.99      0.99      0.99     10000\n",
      "\n"
     ]
    }
   ],
   "source": [
    "# Visualising the result\n",
    "\n",
    "classification_report4_mnist = classification_report(y_test, y_pred_4,output_dict=True)\n",
    "\n",
    "print(classification_report(y_test, y_pred_4))"
   ]
  },
  {
   "cell_type": "code",
   "execution_count": 46,
   "id": "23193951",
   "metadata": {},
   "outputs": [
    {
     "data": {
      "text/html": [
       "<div>\n",
       "<style scoped>\n",
       "    .dataframe tbody tr th:only-of-type {\n",
       "        vertical-align: middle;\n",
       "    }\n",
       "\n",
       "    .dataframe tbody tr th {\n",
       "        vertical-align: top;\n",
       "    }\n",
       "\n",
       "    .dataframe thead th {\n",
       "        text-align: right;\n",
       "    }\n",
       "</style>\n",
       "<table border=\"1\" class=\"dataframe\">\n",
       "  <thead>\n",
       "    <tr style=\"text-align: right;\">\n",
       "      <th></th>\n",
       "      <th>precision</th>\n",
       "      <th>recall</th>\n",
       "      <th>f1-score</th>\n",
       "      <th>support</th>\n",
       "    </tr>\n",
       "  </thead>\n",
       "  <tbody>\n",
       "    <tr>\n",
       "      <th>0</th>\n",
       "      <td>0.993884</td>\n",
       "      <td>0.994898</td>\n",
       "      <td>0.994391</td>\n",
       "      <td>980.000</td>\n",
       "    </tr>\n",
       "    <tr>\n",
       "      <th>1</th>\n",
       "      <td>0.997352</td>\n",
       "      <td>0.995595</td>\n",
       "      <td>0.996473</td>\n",
       "      <td>1135.000</td>\n",
       "    </tr>\n",
       "    <tr>\n",
       "      <th>2</th>\n",
       "      <td>0.972789</td>\n",
       "      <td>0.969961</td>\n",
       "      <td>0.971373</td>\n",
       "      <td>1032.000</td>\n",
       "    </tr>\n",
       "    <tr>\n",
       "      <th>3</th>\n",
       "      <td>0.993083</td>\n",
       "      <td>0.995050</td>\n",
       "      <td>0.994065</td>\n",
       "      <td>1010.000</td>\n",
       "    </tr>\n",
       "    <tr>\n",
       "      <th>4</th>\n",
       "      <td>0.997910</td>\n",
       "      <td>0.972505</td>\n",
       "      <td>0.985044</td>\n",
       "      <td>982.000</td>\n",
       "    </tr>\n",
       "    <tr>\n",
       "      <th>5</th>\n",
       "      <td>0.976562</td>\n",
       "      <td>0.980942</td>\n",
       "      <td>0.978747</td>\n",
       "      <td>892.000</td>\n",
       "    </tr>\n",
       "    <tr>\n",
       "      <th>6</th>\n",
       "      <td>0.977083</td>\n",
       "      <td>0.979123</td>\n",
       "      <td>0.978102</td>\n",
       "      <td>958.000</td>\n",
       "    </tr>\n",
       "    <tr>\n",
       "      <th>7</th>\n",
       "      <td>0.996067</td>\n",
       "      <td>0.985409</td>\n",
       "      <td>0.990709</td>\n",
       "      <td>1028.000</td>\n",
       "    </tr>\n",
       "    <tr>\n",
       "      <th>8</th>\n",
       "      <td>0.989817</td>\n",
       "      <td>0.997947</td>\n",
       "      <td>0.993865</td>\n",
       "      <td>974.000</td>\n",
       "    </tr>\n",
       "    <tr>\n",
       "      <th>9</th>\n",
       "      <td>0.973863</td>\n",
       "      <td>0.997027</td>\n",
       "      <td>0.985309</td>\n",
       "      <td>1009.000</td>\n",
       "    </tr>\n",
       "    <tr>\n",
       "      <th>accuracy</th>\n",
       "      <td>0.987000</td>\n",
       "      <td>0.987000</td>\n",
       "      <td>0.987000</td>\n",
       "      <td>0.987</td>\n",
       "    </tr>\n",
       "    <tr>\n",
       "      <th>macro avg</th>\n",
       "      <td>0.986841</td>\n",
       "      <td>0.986846</td>\n",
       "      <td>0.986808</td>\n",
       "      <td>10000.000</td>\n",
       "    </tr>\n",
       "    <tr>\n",
       "      <th>weighted avg</th>\n",
       "      <td>0.987069</td>\n",
       "      <td>0.987000</td>\n",
       "      <td>0.986999</td>\n",
       "      <td>10000.000</td>\n",
       "    </tr>\n",
       "  </tbody>\n",
       "</table>\n",
       "</div>"
      ],
      "text/plain": [
       "              precision    recall  f1-score    support\n",
       "0              0.993884  0.994898  0.994391    980.000\n",
       "1              0.997352  0.995595  0.996473   1135.000\n",
       "2              0.972789  0.969961  0.971373   1032.000\n",
       "3              0.993083  0.995050  0.994065   1010.000\n",
       "4              0.997910  0.972505  0.985044    982.000\n",
       "5              0.976562  0.980942  0.978747    892.000\n",
       "6              0.977083  0.979123  0.978102    958.000\n",
       "7              0.996067  0.985409  0.990709   1028.000\n",
       "8              0.989817  0.997947  0.993865    974.000\n",
       "9              0.973863  0.997027  0.985309   1009.000\n",
       "accuracy       0.987000  0.987000  0.987000      0.987\n",
       "macro avg      0.986841  0.986846  0.986808  10000.000\n",
       "weighted avg   0.987069  0.987000  0.986999  10000.000"
      ]
     },
     "execution_count": 46,
     "metadata": {},
     "output_type": "execute_result"
    }
   ],
   "source": [
    "mnist_df_4 = pd.DataFrame(classification_report4_mnist).transpose()\n",
    "mnist_df_4"
   ]
  },
  {
   "cell_type": "markdown",
   "id": "12ef5616",
   "metadata": {},
   "source": [
    "## Observations\n",
    "\n",
    "- The model's accuracy decreased by 0.40% using Adam as the Optimizer while the validation loss increased by 5.7% with 0.0391 being the least validation loss for the Adam optimizer as against 0.0370 for the SGD optimizer.\n",
    "- SGD optimizer performed better than Adam optimizer."
   ]
  },
  {
   "cell_type": "code",
   "execution_count": 47,
   "id": "fcc5be26",
   "metadata": {},
   "outputs": [],
   "source": [
    "# Using RMSProp as Optimizer.\n",
    "\n",
    "mnist_model_5 = Sequential()\n",
    "mnist_model_5.add(Conv2D(filters=32,kernel_size=(3,3),input_shape=(28,28,1),activation = 'relu',padding = 'same'))\n",
    "mnist_model_5.add(MaxPooling2D(pool_size=(2,2)))\n",
    "mnist_model_5.add(Conv2D(filters=64,kernel_size=(3,3),activation = 'relu'))\n",
    "mnist_model_5.add(MaxPooling2D(pool_size=(2,2)))\n",
    "mnist_model_5.add(Conv2D(filters=128,kernel_size=(3,3),activation = 'relu'))\n",
    "mnist_model_5.add(MaxPooling2D(pool_size=(2,2)))\n",
    "mnist_model_5.add(Flatten())\n",
    "mnist_model_5.add(BatchNormalization())\n",
    "mnist_model_5.add(Dense(128,activation = 'relu'))\n",
    "mnist_model_5.add(Dropout(0.5))\n",
    "mnist_model_5.add(Dense(10,activation = 'softmax'))\n",
    "#compiling the model\n",
    "mnist_model_5.compile(optimizer=RMSprop(learning_rate=0.001), loss='categorical_crossentropy', metrics=['accuracy'])"
   ]
  },
  {
   "cell_type": "code",
   "execution_count": 48,
   "id": "992ebe7f",
   "metadata": {},
   "outputs": [
    {
     "name": "stdout",
     "output_type": "stream",
     "text": [
      "Epoch 1/25\n",
      "1875/1875 [==============================] - 22s 11ms/step - loss: 0.4372 - accuracy: 0.8637 - val_loss: 0.2170 - val_accuracy: 0.9496\n",
      "Epoch 2/25\n",
      "1875/1875 [==============================] - 21s 11ms/step - loss: 0.2533 - accuracy: 0.9283 - val_loss: 0.1758 - val_accuracy: 0.9647\n",
      "Epoch 3/25\n",
      "1875/1875 [==============================] - 22s 12ms/step - loss: 0.2382 - accuracy: 0.9348 - val_loss: 0.2022 - val_accuracy: 0.9687\n",
      "Epoch 4/25\n",
      "1875/1875 [==============================] - 21s 11ms/step - loss: 0.2382 - accuracy: 0.9382 - val_loss: 0.1227 - val_accuracy: 0.9797\n",
      "Epoch 5/25\n",
      "1875/1875 [==============================] - 21s 11ms/step - loss: 0.2399 - accuracy: 0.9394 - val_loss: 0.2612 - val_accuracy: 0.9631\n",
      "Epoch 6/25\n",
      "1875/1875 [==============================] - 21s 11ms/step - loss: 0.2386 - accuracy: 0.9403 - val_loss: 0.1602 - val_accuracy: 0.9728\n",
      "Epoch 7/25\n",
      "1875/1875 [==============================] - 22s 12ms/step - loss: 0.2382 - accuracy: 0.9422 - val_loss: 0.1620 - val_accuracy: 0.9745\n",
      "Epoch 8/25\n",
      "1875/1875 [==============================] - 22s 12ms/step - loss: 0.2356 - accuracy: 0.9436 - val_loss: 0.0943 - val_accuracy: 0.9819\n",
      "Epoch 9/25\n",
      "1875/1875 [==============================] - 23s 12ms/step - loss: 0.2250 - accuracy: 0.9458 - val_loss: 0.1019 - val_accuracy: 0.9821\n",
      "Epoch 10/25\n",
      "1875/1875 [==============================] - 21s 11ms/step - loss: 0.2293 - accuracy: 0.9443 - val_loss: 0.1750 - val_accuracy: 0.9715\n",
      "Epoch 11/25\n",
      "1875/1875 [==============================] - 21s 11ms/step - loss: 0.2286 - accuracy: 0.9456 - val_loss: 0.0808 - val_accuracy: 0.9826\n",
      "Epoch 12/25\n",
      "1875/1875 [==============================] - 21s 11ms/step - loss: 0.2230 - accuracy: 0.9462 - val_loss: 0.1597 - val_accuracy: 0.9764\n",
      "Epoch 13/25\n",
      "1875/1875 [==============================] - 21s 11ms/step - loss: 0.2258 - accuracy: 0.9463 - val_loss: 0.1342 - val_accuracy: 0.9814\n",
      "Epoch 14/25\n",
      "1875/1875 [==============================] - 22s 12ms/step - loss: 0.2234 - accuracy: 0.9475 - val_loss: 0.1144 - val_accuracy: 0.9815\n",
      "Epoch 15/25\n",
      "1875/1875 [==============================] - 22s 11ms/step - loss: 0.2121 - accuracy: 0.9495 - val_loss: 0.1169 - val_accuracy: 0.9820\n",
      "Epoch 16/25\n",
      "1875/1875 [==============================] - 21s 11ms/step - loss: 0.2124 - accuracy: 0.9492 - val_loss: 0.0839 - val_accuracy: 0.9848\n",
      "Epoch 17/25\n",
      "1875/1875 [==============================] - 21s 11ms/step - loss: 0.2180 - accuracy: 0.9486 - val_loss: 0.1184 - val_accuracy: 0.9804\n",
      "Epoch 18/25\n",
      "1875/1875 [==============================] - 21s 11ms/step - loss: 0.2071 - accuracy: 0.9507 - val_loss: 0.0981 - val_accuracy: 0.9807\n",
      "Epoch 19/25\n",
      "1875/1875 [==============================] - 21s 11ms/step - loss: 0.2090 - accuracy: 0.9499 - val_loss: 0.0634 - val_accuracy: 0.9886\n",
      "Epoch 20/25\n",
      "1875/1875 [==============================] - 21s 11ms/step - loss: 0.2025 - accuracy: 0.9511 - val_loss: 0.0698 - val_accuracy: 0.9861\n",
      "Epoch 21/25\n",
      "1875/1875 [==============================] - 21s 11ms/step - loss: 0.1978 - accuracy: 0.9519 - val_loss: 0.0900 - val_accuracy: 0.9820\n",
      "Epoch 22/25\n",
      "1875/1875 [==============================] - 20s 11ms/step - loss: 0.1998 - accuracy: 0.9522 - val_loss: 0.0943 - val_accuracy: 0.9816\n",
      "Epoch 23/25\n",
      "1875/1875 [==============================] - 21s 11ms/step - loss: 0.2000 - accuracy: 0.9528 - val_loss: 0.1351 - val_accuracy: 0.9794\n",
      "Epoch 24/25\n",
      "1875/1875 [==============================] - 21s 11ms/step - loss: 0.1969 - accuracy: 0.9525 - val_loss: 0.0937 - val_accuracy: 0.9826\n",
      "Epoch 25/25\n",
      "1875/1875 [==============================] - 21s 11ms/step - loss: 0.1976 - accuracy: 0.9524 - val_loss: 0.0698 - val_accuracy: 0.9863\n"
     ]
    }
   ],
   "source": [
    "# Training and evaluating the model\n",
    "history_5=mnist_model_5.fit(train_datagenerator.flow(x_train, keras.utils.to_categorical(y_train), batch_size=32),\n",
    "         epochs=25, validation_data=(x_test, keras.utils.to_categorical(y_test)))"
   ]
  },
  {
   "cell_type": "code",
   "execution_count": 49,
   "id": "52e275ff",
   "metadata": {},
   "outputs": [
    {
     "data": {
      "image/png": "[encoded data removed]",
      "text/plain": [
       "<Figure size 640x480 with 1 Axes>"
      ]
     },
     "metadata": {},
     "output_type": "display_data"
    }
   ],
   "source": [
    "# Checking for overfitting\n",
    "\n",
    "# Plot training loss against validation loss\n",
    "\n",
    "#Plots the training loss as a line with label \"Training Loss\".\n",
    "plt.plot(history_5.history['loss'], label='Training Loss')\n",
    "\n",
    "#Plots the validation loss as a line with label \"Validation Loss\".\n",
    "plt.plot(history_5.history['val_loss'], label='Validation Loss')\n",
    "\n",
    "#Sets the title of the plot to \"Training and Validation Loss\".\n",
    "plt.title('Training and Validation Loss (With RMSprop as optimizer)')\n",
    "\n",
    "#Sets the label of the x-axis to \"Epochs\".\n",
    "plt.xlabel('Epochs')\n",
    "\n",
    "#Sets the label of the y-axis to \"Loss\".\n",
    "plt.ylabel('Loss')\n",
    "\n",
    "#Shows the legend of the plot with the labels of the two lines.\n",
    "plt.legend()\n",
    "\n",
    "#Shows the plot on the screen.\n",
    "plt.show()"
   ]
  },
  {
   "cell_type": "code",
   "execution_count": 50,
   "id": "bf108f3c",
   "metadata": {},
   "outputs": [
    {
     "data": {
      "image/png": "[encoded data removed]",
      "text/plain": [
       "<Figure size 640x480 with 1 Axes>"
      ]
     },
     "metadata": {},
     "output_type": "display_data"
    }
   ],
   "source": [
    "# Plot training and validation accuracy\n",
    "\n",
    "#Plots the training accuracy as a line with label \"Training Accuracy\".\n",
    "plt.plot(history_5.history['accuracy'], label='Training Accuracy')\n",
    "\n",
    "#Plots the validation accuracy as a line with label \"Validation Accuracy\".\n",
    "plt.plot(history_5.history['val_accuracy'], label='Validation Accuracy')\n",
    "\n",
    "#Sets the title of the plot to \"Training and Validation Accuracy\".\n",
    "plt.title('Training and Validation Accuracy (With RMSprop as optimizer)')\n",
    "\n",
    "#Sets the label of the x-axis to \"Epochs\".\n",
    "plt.xlabel('Epochs')\n",
    "\n",
    "#Sets the label of the y-axis to \"Accuracy\".\n",
    "plt.ylabel('Accuracy')\n",
    "\n",
    "#Shows the legend of the plot with the labels of the two lines.\n",
    "plt.legend()\n",
    "\n",
    "#Shows the plot on the screen.\n",
    "plt.show()"
   ]
  },
  {
   "cell_type": "code",
   "execution_count": 51,
   "id": "5213572a",
   "metadata": {},
   "outputs": [
    {
     "name": "stdout",
     "output_type": "stream",
     "text": [
      "313/313 [==============================] - 1s 3ms/step\n"
     ]
    }
   ],
   "source": [
    "# Making predictions\n",
    "y_pred_5 = np.argmax(mnist_model_5.predict(x_test), axis=-1)"
   ]
  },
  {
   "cell_type": "code",
   "execution_count": 52,
   "id": "a65e8179",
   "metadata": {},
   "outputs": [
    {
     "name": "stdout",
     "output_type": "stream",
     "text": [
      "              precision    recall  f1-score   support\n",
      "\n",
      "           0       1.00      0.99      0.99       980\n",
      "           1       0.99      0.99      0.99      1135\n",
      "           2       0.99      0.97      0.98      1032\n",
      "           3       0.98      1.00      0.99      1010\n",
      "           4       0.97      1.00      0.99       982\n",
      "           5       0.98      0.98      0.98       892\n",
      "           6       0.98      0.99      0.98       958\n",
      "           7       0.99      0.98      0.99      1028\n",
      "           8       0.99      1.00      0.99       974\n",
      "           9       0.99      0.98      0.98      1009\n",
      "\n",
      "    accuracy                           0.99     10000\n",
      "   macro avg       0.99      0.99      0.99     10000\n",
      "weighted avg       0.99      0.99      0.99     10000\n",
      "\n"
     ]
    }
   ],
   "source": [
    "#Visualize the result\n",
    "\n",
    "classification_report5_mnist = classification_report(y_test, y_pred_5,output_dict=True)\n",
    "\n",
    "print(classification_report(y_test, y_pred_5))"
   ]
  },
  {
   "cell_type": "code",
   "execution_count": 53,
   "id": "00b29ec6",
   "metadata": {},
   "outputs": [
    {
     "data": {
      "text/html": [
       "<div>\n",
       "<style scoped>\n",
       "    .dataframe tbody tr th:only-of-type {\n",
       "        vertical-align: middle;\n",
       "    }\n",
       "\n",
       "    .dataframe tbody tr th {\n",
       "        vertical-align: top;\n",
       "    }\n",
       "\n",
       "    .dataframe thead th {\n",
       "        text-align: right;\n",
       "    }\n",
       "</style>\n",
       "<table border=\"1\" class=\"dataframe\">\n",
       "  <thead>\n",
       "    <tr style=\"text-align: right;\">\n",
       "      <th></th>\n",
       "      <th>precision</th>\n",
       "      <th>recall</th>\n",
       "      <th>f1-score</th>\n",
       "      <th>support</th>\n",
       "    </tr>\n",
       "  </thead>\n",
       "  <tbody>\n",
       "    <tr>\n",
       "      <th>0</th>\n",
       "      <td>0.997947</td>\n",
       "      <td>0.991837</td>\n",
       "      <td>0.994882</td>\n",
       "      <td>980.0000</td>\n",
       "    </tr>\n",
       "    <tr>\n",
       "      <th>1</th>\n",
       "      <td>0.994686</td>\n",
       "      <td>0.989427</td>\n",
       "      <td>0.992049</td>\n",
       "      <td>1135.0000</td>\n",
       "    </tr>\n",
       "    <tr>\n",
       "      <th>2</th>\n",
       "      <td>0.985192</td>\n",
       "      <td>0.967054</td>\n",
       "      <td>0.976039</td>\n",
       "      <td>1032.0000</td>\n",
       "    </tr>\n",
       "    <tr>\n",
       "      <th>3</th>\n",
       "      <td>0.978682</td>\n",
       "      <td>1.000000</td>\n",
       "      <td>0.989226</td>\n",
       "      <td>1010.0000</td>\n",
       "    </tr>\n",
       "    <tr>\n",
       "      <th>4</th>\n",
       "      <td>0.974155</td>\n",
       "      <td>0.997963</td>\n",
       "      <td>0.985915</td>\n",
       "      <td>982.0000</td>\n",
       "    </tr>\n",
       "    <tr>\n",
       "      <th>5</th>\n",
       "      <td>0.977528</td>\n",
       "      <td>0.975336</td>\n",
       "      <td>0.976431</td>\n",
       "      <td>892.0000</td>\n",
       "    </tr>\n",
       "    <tr>\n",
       "      <th>6</th>\n",
       "      <td>0.975283</td>\n",
       "      <td>0.988518</td>\n",
       "      <td>0.981856</td>\n",
       "      <td>958.0000</td>\n",
       "    </tr>\n",
       "    <tr>\n",
       "      <th>7</th>\n",
       "      <td>0.991159</td>\n",
       "      <td>0.981518</td>\n",
       "      <td>0.986315</td>\n",
       "      <td>1028.0000</td>\n",
       "    </tr>\n",
       "    <tr>\n",
       "      <th>8</th>\n",
       "      <td>0.992835</td>\n",
       "      <td>0.995893</td>\n",
       "      <td>0.994362</td>\n",
       "      <td>974.0000</td>\n",
       "    </tr>\n",
       "    <tr>\n",
       "      <th>9</th>\n",
       "      <td>0.993939</td>\n",
       "      <td>0.975223</td>\n",
       "      <td>0.984492</td>\n",
       "      <td>1009.0000</td>\n",
       "    </tr>\n",
       "    <tr>\n",
       "      <th>accuracy</th>\n",
       "      <td>0.986300</td>\n",
       "      <td>0.986300</td>\n",
       "      <td>0.986300</td>\n",
       "      <td>0.9863</td>\n",
       "    </tr>\n",
       "    <tr>\n",
       "      <th>macro avg</th>\n",
       "      <td>0.986141</td>\n",
       "      <td>0.986277</td>\n",
       "      <td>0.986157</td>\n",
       "      <td>10000.0000</td>\n",
       "    </tr>\n",
       "    <tr>\n",
       "      <th>weighted avg</th>\n",
       "      <td>0.986386</td>\n",
       "      <td>0.986300</td>\n",
       "      <td>0.986291</td>\n",
       "      <td>10000.0000</td>\n",
       "    </tr>\n",
       "  </tbody>\n",
       "</table>\n",
       "</div>"
      ],
      "text/plain": [
       "              precision    recall  f1-score     support\n",
       "0              0.997947  0.991837  0.994882    980.0000\n",
       "1              0.994686  0.989427  0.992049   1135.0000\n",
       "2              0.985192  0.967054  0.976039   1032.0000\n",
       "3              0.978682  1.000000  0.989226   1010.0000\n",
       "4              0.974155  0.997963  0.985915    982.0000\n",
       "5              0.977528  0.975336  0.976431    892.0000\n",
       "6              0.975283  0.988518  0.981856    958.0000\n",
       "7              0.991159  0.981518  0.986315   1028.0000\n",
       "8              0.992835  0.995893  0.994362    974.0000\n",
       "9              0.993939  0.975223  0.984492   1009.0000\n",
       "accuracy       0.986300  0.986300  0.986300      0.9863\n",
       "macro avg      0.986141  0.986277  0.986157  10000.0000\n",
       "weighted avg   0.986386  0.986300  0.986291  10000.0000"
      ]
     },
     "execution_count": 53,
     "metadata": {},
     "output_type": "execute_result"
    }
   ],
   "source": [
    "mnist_df_5 = pd.DataFrame(classification_report5_mnist).transpose()\n",
    "mnist_df_5"
   ]
  },
  {
   "cell_type": "markdown",
   "id": "ea825116",
   "metadata": {},
   "source": [
    "## Observations\n",
    "\n",
    "- The model's accuracy decreased by 0.11% using RMSprop as the Optimizer while the validation loss increased by 71.35% with 0.0634 being the least validation loss for the RMSprop optimizer as against 0.0370 for the SGD optimizer\n",
    "\n",
    "\n",
    "- There were instances of overfitting at the 5th Epoch using RMSprop as the optimizer.\n",
    "\n",
    "\n",
    "- SGD optimizer performed better than RMSprop"
   ]
  },
  {
   "cell_type": "markdown",
   "id": "3d0f0cc1",
   "metadata": {},
   "source": [
    "# Question B\n",
    "\n",
    "- Report how changes to the number of convolution blocks affect the performance ofyour model quantitatively?"
   ]
  },
  {
   "cell_type": "code",
   "execution_count": 54,
   "id": "13c05951",
   "metadata": {},
   "outputs": [],
   "source": [
    "#Increaing the convolution blocks from 3 to 4 with epochs,learning rate, batchsize, optimizer kept constant\n",
    "mnist_model_6 = Sequential()\n",
    "mnist_model_6.add(Conv2D(filters=32,kernel_size=(3,3),input_shape=(28,28,1),activation = 'relu',padding = 'same'))\n",
    "mnist_model_6.add(MaxPooling2D(pool_size=(2,2)))\n",
    "mnist_model_6.add(Conv2D(filters=64,kernel_size=(3,3),activation = 'relu'))\n",
    "mnist_model_6.add(MaxPooling2D(pool_size=(2,2)))\n",
    "mnist_model_6.add(Conv2D(filters=128,kernel_size=(3,3),activation = 'relu'))\n",
    "mnist_model_6.add(MaxPooling2D(pool_size=(2,2)))\n",
    "mnist_model_6.add(ZeroPadding2D(padding=((1, 1), (1, 1)))) # Add padding layer to resolve Negative dimension size error\n",
    "mnist_model_6.add(Conv2D(filters=256,kernel_size=(3,3),activation = 'relu'))\n",
    "mnist_model_6.add(MaxPooling2D(pool_size=(2,2)))\n",
    "mnist_model_6.add(Flatten())\n",
    "mnist_model_6.add(BatchNormalization())\n",
    "mnist_model_6.add(Dense(128,activation = 'relu'))\n",
    "mnist_model_6.add(Dropout(0.5))\n",
    "mnist_model_6.add(Dense(10,activation = 'softmax'))\n",
    "#compiling the model\n",
    "mnist_model_6.compile(optimizer=SGD(learning_rate=0.001, momentum=0.9), loss='categorical_crossentropy', \n",
    "                      metrics=['accuracy'])"
   ]
  },
  {
   "cell_type": "code",
   "execution_count": 55,
   "id": "2c99a104",
   "metadata": {},
   "outputs": [
    {
     "name": "stdout",
     "output_type": "stream",
     "text": [
      "Epoch 1/25\n",
      "1875/1875 [==============================] - 24s 13ms/step - loss: 0.6686 - accuracy: 0.7791 - val_loss: 0.2134 - val_accuracy: 0.9278\n",
      "Epoch 2/25\n",
      "1875/1875 [==============================] - 24s 13ms/step - loss: 0.2989 - accuracy: 0.9087 - val_loss: 0.1063 - val_accuracy: 0.9650\n",
      "Epoch 3/25\n",
      "1875/1875 [==============================] - 24s 13ms/step - loss: 0.2215 - accuracy: 0.9322 - val_loss: 0.0919 - val_accuracy: 0.9702\n",
      "Epoch 4/25\n",
      "1875/1875 [==============================] - 24s 13ms/step - loss: 0.1868 - accuracy: 0.9442 - val_loss: 0.0934 - val_accuracy: 0.9708\n",
      "Epoch 5/25\n",
      "1875/1875 [==============================] - 24s 13ms/step - loss: 0.1634 - accuracy: 0.9499 - val_loss: 0.0657 - val_accuracy: 0.9808\n",
      "Epoch 6/25\n",
      "1875/1875 [==============================] - 25s 13ms/step - loss: 0.1471 - accuracy: 0.9557 - val_loss: 0.0759 - val_accuracy: 0.9759\n",
      "Epoch 7/25\n",
      "1875/1875 [==============================] - 24s 13ms/step - loss: 0.1378 - accuracy: 0.9584 - val_loss: 0.0858 - val_accuracy: 0.9735\n",
      "Epoch 8/25\n",
      "1875/1875 [==============================] - 24s 13ms/step - loss: 0.1255 - accuracy: 0.9617 - val_loss: 0.0464 - val_accuracy: 0.9838\n",
      "Epoch 9/25\n",
      "1875/1875 [==============================] - 24s 13ms/step - loss: 0.1224 - accuracy: 0.9628 - val_loss: 0.0535 - val_accuracy: 0.9832\n",
      "Epoch 10/25\n",
      "1875/1875 [==============================] - 24s 13ms/step - loss: 0.1185 - accuracy: 0.9646 - val_loss: 0.0508 - val_accuracy: 0.9838\n",
      "Epoch 11/25\n",
      "1875/1875 [==============================] - 24s 13ms/step - loss: 0.1083 - accuracy: 0.9664 - val_loss: 0.0465 - val_accuracy: 0.9852\n",
      "Epoch 12/25\n",
      "1875/1875 [==============================] - 24s 13ms/step - loss: 0.1037 - accuracy: 0.9676 - val_loss: 0.0451 - val_accuracy: 0.9860\n",
      "Epoch 13/25\n",
      "1875/1875 [==============================] - 24s 13ms/step - loss: 0.1015 - accuracy: 0.9691 - val_loss: 0.0466 - val_accuracy: 0.9841\n",
      "Epoch 14/25\n",
      "1875/1875 [==============================] - 24s 13ms/step - loss: 0.1004 - accuracy: 0.9690 - val_loss: 0.0506 - val_accuracy: 0.9837\n",
      "Epoch 15/25\n",
      "1875/1875 [==============================] - 24s 13ms/step - loss: 0.0938 - accuracy: 0.9717 - val_loss: 0.0465 - val_accuracy: 0.9845\n",
      "Epoch 16/25\n",
      "1875/1875 [==============================] - 24s 13ms/step - loss: 0.0949 - accuracy: 0.9707 - val_loss: 0.0387 - val_accuracy: 0.9882\n",
      "Epoch 17/25\n",
      "1875/1875 [==============================] - 24s 13ms/step - loss: 0.0903 - accuracy: 0.9726 - val_loss: 0.0423 - val_accuracy: 0.9870\n",
      "Epoch 18/25\n",
      "1875/1875 [==============================] - 24s 13ms/step - loss: 0.0855 - accuracy: 0.9735 - val_loss: 0.0365 - val_accuracy: 0.9877\n",
      "Epoch 19/25\n",
      "1875/1875 [==============================] - 24s 13ms/step - loss: 0.0832 - accuracy: 0.9738 - val_loss: 0.0343 - val_accuracy: 0.9898\n",
      "Epoch 20/25\n",
      "1875/1875 [==============================] - 24s 13ms/step - loss: 0.0847 - accuracy: 0.9742 - val_loss: 0.0462 - val_accuracy: 0.9856\n",
      "Epoch 21/25\n",
      "1875/1875 [==============================] - 24s 13ms/step - loss: 0.0807 - accuracy: 0.9744 - val_loss: 0.0472 - val_accuracy: 0.9844\n",
      "Epoch 22/25\n",
      "1875/1875 [==============================] - 24s 13ms/step - loss: 0.0802 - accuracy: 0.9764 - val_loss: 0.0776 - val_accuracy: 0.9761\n",
      "Epoch 23/25\n",
      "1875/1875 [==============================] - 24s 13ms/step - loss: 0.0792 - accuracy: 0.9760 - val_loss: 0.0391 - val_accuracy: 0.9878\n",
      "Epoch 24/25\n",
      "1875/1875 [==============================] - 25s 13ms/step - loss: 0.0749 - accuracy: 0.9776 - val_loss: 0.0409 - val_accuracy: 0.9874\n",
      "Epoch 25/25\n",
      "1875/1875 [==============================] - 24s 13ms/step - loss: 0.0754 - accuracy: 0.9765 - val_loss: 0.0441 - val_accuracy: 0.9869\n"
     ]
    }
   ],
   "source": [
    "#Training and evaluating the model\n",
    "history_6=mnist_model_6.fit(train_datagenerator.flow(x_train, keras.utils.to_categorical(y_train), batch_size=32),\n",
    "         epochs=25, validation_data=(x_test, keras.utils.to_categorical(y_test)))"
   ]
  },
  {
   "cell_type": "code",
   "execution_count": 56,
   "id": "e6a4c803",
   "metadata": {
    "scrolled": false
   },
   "outputs": [
    {
     "data": {
      "image/png": "[encoded data removed]",
      "text/plain": [
       "<Figure size 640x480 with 1 Axes>"
      ]
     },
     "metadata": {},
     "output_type": "display_data"
    }
   ],
   "source": [
    "# Checking for overfitting\n",
    "\n",
    "# Plot training loss against validation loss\n",
    "\n",
    "#Plots the training loss as a line with label \"Training Loss\".\n",
    "plt.plot(history_6.history['loss'], label='Training Loss')\n",
    "\n",
    "#Plots the validation loss as a line with label \"Validation Loss\".\n",
    "plt.plot(history_6.history['val_loss'], label='Validation Loss')\n",
    "\n",
    "#Sets the title of the plot to \"Training and Validation Loss\".\n",
    "plt.title('Training and Validation Loss (With 4 convolution blocks)')\n",
    "\n",
    "#Sets the label of the x-axis to \"Epochs\".\n",
    "plt.xlabel('Epochs')\n",
    "\n",
    "#Sets the label of the y-axis to \"Loss\".\n",
    "plt.ylabel('Loss')\n",
    "\n",
    "#Shows the legend of the plot with the labels of the two lines.\n",
    "plt.legend()\n",
    "\n",
    "#Shows the plot on the screen.\n",
    "plt.show()"
   ]
  },
  {
   "cell_type": "code",
   "execution_count": 57,
   "id": "da7b68a2",
   "metadata": {},
   "outputs": [
    {
     "data": {
      "image/png": "[encoded data removed]",
      "text/plain": [
       "<Figure size 640x480 with 1 Axes>"
      ]
     },
     "metadata": {},
     "output_type": "display_data"
    }
   ],
   "source": [
    "# Plot training and validation accuracy\n",
    "\n",
    "# Plots the training accuracy as a line with label \"Training Accuracy\".\n",
    "plt.plot(history_6.history['accuracy'], label='Training Accuracy')\n",
    "\n",
    "# Plots the validation accuracy as a line with label \"Validation Accuracy\".\n",
    "plt.plot(history_6.history['val_accuracy'], label='Validation Accuracy')\n",
    "\n",
    "# Sets the title of the plot to \"Training and Validation Accuracy\".\n",
    "plt.title('Training and Validation Accuracy (With 4 convolution blocks)')\n",
    "\n",
    "# Sets the label of the x-axis to \"Epochs\".\n",
    "plt.xlabel('Epochs')\n",
    "\n",
    "# Sets the label of the y-axis to \"Accuracy\".\n",
    "plt.ylabel('Accuracy')\n",
    "\n",
    "# Shows the legend of the plot with the labels of the two lines.\n",
    "plt.legend()\n",
    "\n",
    "# Shows the plot on the screen.\n",
    "plt.show()"
   ]
  },
  {
   "cell_type": "code",
   "execution_count": 58,
   "id": "bbf536a5",
   "metadata": {},
   "outputs": [
    {
     "name": "stdout",
     "output_type": "stream",
     "text": [
      "313/313 [==============================] - 1s 4ms/step\n"
     ]
    }
   ],
   "source": [
    "# Making predictions\n",
    "y_pred_6 = np.argmax(mnist_model_6.predict(x_test), axis=-1)"
   ]
  },
  {
   "cell_type": "code",
   "execution_count": 59,
   "id": "b7d1e376",
   "metadata": {},
   "outputs": [
    {
     "name": "stdout",
     "output_type": "stream",
     "text": [
      "              precision    recall  f1-score   support\n",
      "\n",
      "           0       1.00      0.99      0.99       980\n",
      "           1       1.00      0.98      0.99      1135\n",
      "           2       0.97      0.98      0.97      1032\n",
      "           3       0.99      0.99      0.99      1010\n",
      "           4       0.99      0.99      0.99       982\n",
      "           5       0.97      0.98      0.97       892\n",
      "           6       0.97      0.99      0.98       958\n",
      "           7       0.99      0.98      0.99      1028\n",
      "           8       0.98      1.00      0.99       974\n",
      "           9       0.99      0.99      0.99      1009\n",
      "\n",
      "    accuracy                           0.99     10000\n",
      "   macro avg       0.99      0.99      0.99     10000\n",
      "weighted avg       0.99      0.99      0.99     10000\n",
      "\n"
     ]
    }
   ],
   "source": [
    "#Visualize the result\n",
    "\n",
    "classification_report6_mnist = classification_report(y_test, y_pred_6,output_dict=True)\n",
    "\n",
    "print(classification_report(y_test, y_pred_6))"
   ]
  },
  {
   "cell_type": "code",
   "execution_count": 61,
   "id": "6f18b0fd",
   "metadata": {},
   "outputs": [
    {
     "data": {
      "text/html": [
       "<div>\n",
       "<style scoped>\n",
       "    .dataframe tbody tr th:only-of-type {\n",
       "        vertical-align: middle;\n",
       "    }\n",
       "\n",
       "    .dataframe tbody tr th {\n",
       "        vertical-align: top;\n",
       "    }\n",
       "\n",
       "    .dataframe thead th {\n",
       "        text-align: right;\n",
       "    }\n",
       "</style>\n",
       "<table border=\"1\" class=\"dataframe\">\n",
       "  <thead>\n",
       "    <tr style=\"text-align: right;\">\n",
       "      <th></th>\n",
       "      <th>precision</th>\n",
       "      <th>recall</th>\n",
       "      <th>f1-score</th>\n",
       "      <th>support</th>\n",
       "    </tr>\n",
       "  </thead>\n",
       "  <tbody>\n",
       "    <tr>\n",
       "      <th>0</th>\n",
       "      <td>0.996907</td>\n",
       "      <td>0.986735</td>\n",
       "      <td>0.991795</td>\n",
       "      <td>980.0000</td>\n",
       "    </tr>\n",
       "    <tr>\n",
       "      <th>1</th>\n",
       "      <td>0.999106</td>\n",
       "      <td>0.984141</td>\n",
       "      <td>0.991567</td>\n",
       "      <td>1135.0000</td>\n",
       "    </tr>\n",
       "    <tr>\n",
       "      <th>2</th>\n",
       "      <td>0.973888</td>\n",
       "      <td>0.975775</td>\n",
       "      <td>0.974831</td>\n",
       "      <td>1032.0000</td>\n",
       "    </tr>\n",
       "    <tr>\n",
       "      <th>3</th>\n",
       "      <td>0.993062</td>\n",
       "      <td>0.992079</td>\n",
       "      <td>0.992571</td>\n",
       "      <td>1010.0000</td>\n",
       "    </tr>\n",
       "    <tr>\n",
       "      <th>4</th>\n",
       "      <td>0.992879</td>\n",
       "      <td>0.993890</td>\n",
       "      <td>0.993384</td>\n",
       "      <td>982.0000</td>\n",
       "    </tr>\n",
       "    <tr>\n",
       "      <th>5</th>\n",
       "      <td>0.967778</td>\n",
       "      <td>0.976457</td>\n",
       "      <td>0.972098</td>\n",
       "      <td>892.0000</td>\n",
       "    </tr>\n",
       "    <tr>\n",
       "      <th>6</th>\n",
       "      <td>0.974359</td>\n",
       "      <td>0.991649</td>\n",
       "      <td>0.982928</td>\n",
       "      <td>958.0000</td>\n",
       "    </tr>\n",
       "    <tr>\n",
       "      <th>7</th>\n",
       "      <td>0.993124</td>\n",
       "      <td>0.983463</td>\n",
       "      <td>0.988270</td>\n",
       "      <td>1028.0000</td>\n",
       "    </tr>\n",
       "    <tr>\n",
       "      <th>8</th>\n",
       "      <td>0.980827</td>\n",
       "      <td>0.997947</td>\n",
       "      <td>0.989313</td>\n",
       "      <td>974.0000</td>\n",
       "    </tr>\n",
       "    <tr>\n",
       "      <th>9</th>\n",
       "      <td>0.994012</td>\n",
       "      <td>0.987116</td>\n",
       "      <td>0.990552</td>\n",
       "      <td>1009.0000</td>\n",
       "    </tr>\n",
       "    <tr>\n",
       "      <th>accuracy</th>\n",
       "      <td>0.986900</td>\n",
       "      <td>0.986900</td>\n",
       "      <td>0.986900</td>\n",
       "      <td>0.9869</td>\n",
       "    </tr>\n",
       "    <tr>\n",
       "      <th>macro avg</th>\n",
       "      <td>0.986594</td>\n",
       "      <td>0.986925</td>\n",
       "      <td>0.986731</td>\n",
       "      <td>10000.0000</td>\n",
       "    </tr>\n",
       "    <tr>\n",
       "      <th>weighted avg</th>\n",
       "      <td>0.986992</td>\n",
       "      <td>0.986900</td>\n",
       "      <td>0.986917</td>\n",
       "      <td>10000.0000</td>\n",
       "    </tr>\n",
       "  </tbody>\n",
       "</table>\n",
       "</div>"
      ],
      "text/plain": [
       "              precision    recall  f1-score     support\n",
       "0              0.996907  0.986735  0.991795    980.0000\n",
       "1              0.999106  0.984141  0.991567   1135.0000\n",
       "2              0.973888  0.975775  0.974831   1032.0000\n",
       "3              0.993062  0.992079  0.992571   1010.0000\n",
       "4              0.992879  0.993890  0.993384    982.0000\n",
       "5              0.967778  0.976457  0.972098    892.0000\n",
       "6              0.974359  0.991649  0.982928    958.0000\n",
       "7              0.993124  0.983463  0.988270   1028.0000\n",
       "8              0.980827  0.997947  0.989313    974.0000\n",
       "9              0.994012  0.987116  0.990552   1009.0000\n",
       "accuracy       0.986900  0.986900  0.986900      0.9869\n",
       "macro avg      0.986594  0.986925  0.986731  10000.0000\n",
       "weighted avg   0.986992  0.986900  0.986917  10000.0000"
      ]
     },
     "execution_count": 61,
     "metadata": {},
     "output_type": "execute_result"
    }
   ],
   "source": [
    "mnist_df_6 = pd.DataFrame(classification_report6_mnist).transpose()\n",
    "mnist_df_6"
   ]
  },
  {
   "cell_type": "markdown",
   "id": "08ace472",
   "metadata": {},
   "source": [
    "## Observations\n",
    "\n",
    "- The model's accuracy decreased by 0.05% with an increase in the number of convolution blocks and the validation loss decreased by 7.30% from 0.0370 to 0.0343. However, considering the time it took to train the model and the weighted average accuracy which is higher in the model with three (3) convolution blocks, the model with 3 convolution blocks is a more optimal option."
   ]
  },
  {
   "cell_type": "markdown",
   "id": "8361bf04",
   "metadata": {},
   "source": [
    "# Question C\n",
    "\n",
    "- What is the effect of varying learning rates on the performance of the CNN algorithm?"
   ]
  },
  {
   "cell_type": "code",
   "execution_count": null,
   "id": "505b4d86",
   "metadata": {},
   "outputs": [],
   "source": [
    "# We would try to find the learning rate that yields the best performance on a validation set using keras \n",
    "#tuner hyperparameter tuning"
   ]
  },
  {
   "cell_type": "code",
   "execution_count": 65,
   "id": "580cf80c",
   "metadata": {},
   "outputs": [],
   "source": [
    "def create_cnn_model(hpt):\n",
    "    model = keras.Sequential()\n",
    "    model.add(Conv2D(filters=32,kernel_size=(3,3),input_shape=(28,28,1),activation = 'relu',padding = 'same'))\n",
    "    model.add(MaxPooling2D(pool_size=(2,2)))\n",
    "    model.add(Conv2D(filters=64,kernel_size=(3,3),activation = 'relu'))\n",
    "    model.add(MaxPooling2D(pool_size=(2,2)))\n",
    "    model.add(Conv2D(filters=128,kernel_size=(3,3),activation = 'relu'))\n",
    "    model.add(Flatten())\n",
    "    model.add(BatchNormalization())\n",
    "    model.add(layers.Dense(128,activation = 'relu'))\n",
    "    model.add(Dropout(0.5))\n",
    "    model.add(layers.Dense(10, activation=\"softmax\"))\n",
    "    model.compile(optimizer=keras.optimizers.SGD\n",
    "                  (hpt.Choice('learning_rate', [0.01,0.005,0.0025,0.00125,0.001844]),momentum=0.9),\n",
    "                  loss='categorical_crossentropy',metrics=['accuracy'])\n",
    "    return model"
   ]
  },
  {
   "cell_type": "code",
   "execution_count": 66,
   "id": "1bca202d",
   "metadata": {},
   "outputs": [],
   "source": [
    "my_tuner = RandomSearch(\n",
    "    create_cnn_model, #The function containing the built model\n",
    "    objective=\"val_accuracy\",  #The name of the objective to optimize\n",
    "    max_trials=5, #The total number of trials to run during the search\n",
    "    executions_per_trial=1, #The number of models that should be built and fit for each trial\n",
    "    overwrite=True, #Decide whether to overwrite the previous results in the same directory or resume the previous search.\n",
    "    directory=\"file_dir\",   #A path to a directory for storing the search results\n",
    "    project_name=\"cnn_mints_classification\"   #The name of the sub-directory in the directory.\n",
    ")"
   ]
  },
  {
   "cell_type": "code",
   "execution_count": 67,
   "id": "7f351c29",
   "metadata": {},
   "outputs": [
    {
     "name": "stdout",
     "output_type": "stream",
     "text": [
      "Search space summary\n",
      "Default search space size: 1\n",
      "learning_rate (Choice)\n",
      "{'default': 0.01, 'conditions': [], 'values': [0.01, 0.005, 0.0025, 0.00125, 0.001844], 'ordered': True}\n"
     ]
    }
   ],
   "source": [
    "#printing a summary of the search space\n",
    "my_tuner.search_space_summary()"
   ]
  },
  {
   "cell_type": "code",
   "execution_count": 69,
   "id": "1a0275e7",
   "metadata": {},
   "outputs": [
    {
     "name": "stdout",
     "output_type": "stream",
     "text": [
      "Trial 5 Complete [00h 09m 30s]\n",
      "val_accuracy: 0.9872999787330627\n",
      "\n",
      "Best val_accuracy So Far: 0.9894999861717224\n",
      "Total elapsed time: 00h 47m 13s\n",
      "INFO:tensorflow:Oracle triggered exit\n"
     ]
    }
   ],
   "source": [
    "history_7=my_tuner.search(train_datagenerator.flow(x_train, keras.utils.to_categorical(y_train), batch_size=32),\n",
    "         epochs=25, validation_data=(x_test, keras.utils.to_categorical(y_test)))"
   ]
  },
  {
   "cell_type": "code",
   "execution_count": 70,
   "id": "b233fb69",
   "metadata": {
    "scrolled": false
   },
   "outputs": [
    {
     "name": "stdout",
     "output_type": "stream",
     "text": [
      "Results summary\n",
      "Results in file_dir\\cnn_mints_classification\n",
      "Showing 10 best trials\n",
      "Objective(name=\"val_accuracy\", direction=\"max\")\n",
      "\n",
      "Trial 0 summary\n",
      "Hyperparameters:\n",
      "learning_rate: 0.001844\n",
      "Score: 0.9894999861717224\n",
      "\n",
      "Trial 1 summary\n",
      "Hyperparameters:\n",
      "learning_rate: 0.005\n",
      "Score: 0.989300012588501\n",
      "\n",
      "Trial 3 summary\n",
      "Hyperparameters:\n",
      "learning_rate: 0.0025\n",
      "Score: 0.9890000224113464\n",
      "\n",
      "Trial 2 summary\n",
      "Hyperparameters:\n",
      "learning_rate: 0.00125\n",
      "Score: 0.9878000020980835\n",
      "\n",
      "Trial 4 summary\n",
      "Hyperparameters:\n",
      "learning_rate: 0.01\n",
      "Score: 0.9872999787330627\n"
     ]
    }
   ],
   "source": [
    "my_tuner.results_summary()"
   ]
  },
  {
   "cell_type": "markdown",
   "id": "33f83f82",
   "metadata": {},
   "source": [
    "## Observations\n",
    "\n",
    "- The model's accuracy would increase by 0.21% if the learning rate of 0.001844 is used.\n",
    "\n",
    "\n",
    "- Varying the learning rate of a model could impact the models' performace as shown in the summary above."
   ]
  },
  {
   "cell_type": "markdown",
   "id": "9e7a030b",
   "metadata": {},
   "source": [
    "# Question D\n",
    "\n",
    "- Was there a case of overfitting observed in your model at any point ?"
   ]
  },
  {
   "cell_type": "markdown",
   "id": "29cfbfa5",
   "metadata": {},
   "source": [
    "Yes, there was an instance of overfitting at the 5th Epoch when RMSprop was used as an optimizer."
   ]
  },
  {
   "cell_type": "code",
   "execution_count": null,
   "id": "42dda13e",
   "metadata": {},
   "outputs": [],
   "source": []
  }
 ],
 "metadata": {
  "kernelspec": {
   "display_name": "Python 3 (ipykernel)",
   "language": "python",
   "name": "python3"
  },
  "language_info": {
   "codemirror_mode": {
    "name": "ipython",
    "version": 3
   },
   "file_extension": ".py",
   "mimetype": "text/x-python",
   "name": "python",
   "nbconvert_exporter": "python",
   "pygments_lexer": "ipython3",
   "version": "3.9.13"
  }
 },
 "nbformat": 4,
 "nbformat_minor": 5
}
